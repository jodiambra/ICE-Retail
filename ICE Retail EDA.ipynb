{
 "cells": [
  {
   "cell_type": "markdown",
   "metadata": {},
   "source": [
    "# Integrated Project"
   ]
  },
  {
   "cell_type": "markdown",
   "metadata": {},
   "source": [
    "## Introduction"
   ]
  },
  {
   "cell_type": "markdown",
   "metadata": {},
   "source": [
    "We are looking at data from Ice, an online retail store for video games. The data set includes categories based on genre, platform, rating, sales, release year, critic, and user scores.  "
   ]
  },
  {
   "cell_type": "markdown",
   "metadata": {},
   "source": [
    "## Purpose"
   ]
  },
  {
   "cell_type": "markdown",
   "metadata": {},
   "source": [
    "The purpose of this project is to collect historical data, and apply insights to determine whether a game will succeed or not in the future. These insights will be used to optimize capital allocation in regards to advertising potentially big winners. We will be determining total sales,  and the distribution  of sales across the different platforms. We will illustrate which platforms lead, and lag in sales. Data analysis will determine the most popular platforms and genres. Investigations will determine if the average user ratings of certain platforms are the same, or if the average ratings of certain genres are the same. "
   ]
  },
  {
   "cell_type": "markdown",
   "metadata": {},
   "source": [
    "## Reading and Viewing Data"
   ]
  },
  {
   "cell_type": "code",
   "execution_count": null,
   "metadata": {},
   "outputs": [],
   "source": [
    "!pip install --user -U plotly_express"
   ]
  },
  {
   "cell_type": "code",
   "execution_count": null,
   "metadata": {},
   "outputs": [],
   "source": [
    "# Import useful packages\n",
    "import pandas as pd\n",
    "import numpy as np\n",
    "import math as mt\n",
    "from scipy import stats as st\n",
    "import plotly.express as px\n",
    "import matplotlib.pyplot as plt\n",
    "import plotly.graph_objects as go"
   ]
  },
  {
   "cell_type": "code",
   "execution_count": null,
   "metadata": {},
   "outputs": [],
   "source": [
    "# Read the dataframe\n",
    "df = pd.read_csv('datasets/games.csv')"
   ]
  },
  {
   "cell_type": "code",
   "execution_count": null,
   "metadata": {
    "scrolled": true
   },
   "outputs": [],
   "source": [
    "# Visual of the Dataframe\n",
    "display(df.head())"
   ]
  },
  {
   "cell_type": "code",
   "execution_count": null,
   "metadata": {
    "scrolled": false
   },
   "outputs": [],
   "source": [
    "# We see the columns need to be changed to lowercase\n",
    "df.columns"
   ]
  },
  {
   "cell_type": "code",
   "execution_count": null,
   "metadata": {
    "scrolled": false
   },
   "outputs": [],
   "source": [
    "# Converting columns to lowercase\n",
    "df.columns = df.columns.str.lower()"
   ]
  },
  {
   "cell_type": "code",
   "execution_count": null,
   "metadata": {
    "scrolled": true
   },
   "outputs": [],
   "source": [
    "# Info of dataframe\n",
    "df.info()"
   ]
  },
  {
   "attachments": {},
   "cell_type": "markdown",
   "metadata": {},
   "source": [
    "We see some missing values in some columns, especially with the scores and rating. Sales data is all there, and all but 2 game names are present. "
   ]
  },
  {
   "cell_type": "code",
   "execution_count": null,
   "metadata": {
    "scrolled": true
   },
   "outputs": [],
   "source": [
    "# Description of the dataset\n",
    "df.describe()"
   ]
  },
  {
   "cell_type": "code",
   "execution_count": null,
   "metadata": {
    "scrolled": true
   },
   "outputs": [],
   "source": [
    "# Unique values of each column\n",
    "df.nunique()"
   ]
  },
  {
   "attachments": {},
   "cell_type": "markdown",
   "metadata": {},
   "source": [
    "We have 31 different platforms spanning a time frame of 37 years. The dataset has 12 different genres, a range of 96 values for user score, and 8 different values for rating. Most games were sold in the North American region, while less games are sold in the Japanese region. The data shows the sales of 4 regions, which we can use to make summary data on total and average sales. There appears to be a large quantity of score and rating data missing. "
   ]
  },
  {
   "cell_type": "markdown",
   "metadata": {},
   "source": [
    "## Cleaning Data"
   ]
  },
  {
   "attachments": {},
   "cell_type": "markdown",
   "metadata": {},
   "source": [
    "Changing Float Columns to Integers"
   ]
  },
  {
   "cell_type": "code",
   "execution_count": null,
   "metadata": {
    "scrolled": true
   },
   "outputs": [],
   "source": [
    "# Visual of different user score values\n",
    "df['user_score'].unique()"
   ]
  },
  {
   "cell_type": "code",
   "execution_count": null,
   "metadata": {},
   "outputs": [],
   "source": [
    "# replacing TBD with a value\n",
    "df['user_score'] = df['user_score'].replace(to_replace='tbd', value=0)"
   ]
  },
  {
   "cell_type": "code",
   "execution_count": null,
   "metadata": {},
   "outputs": [],
   "source": [
    "# Need to convert user score from object to integer\n",
    "df['user_score'] = pd.to_numeric(df['user_score'], errors='coerce')"
   ]
  },
  {
   "cell_type": "code",
   "execution_count": null,
   "metadata": {
    "scrolled": false
   },
   "outputs": [],
   "source": [
    "# Change release year to integer, years dont have decimals\n",
    "df['year_of_release'] = df['year_of_release'].astype('int', errors='ignore')"
   ]
  },
  {
   "cell_type": "markdown",
   "metadata": {},
   "source": [
    "### Checking for Duplicates"
   ]
  },
  {
   "cell_type": "code",
   "execution_count": null,
   "metadata": {
    "scrolled": true
   },
   "outputs": [],
   "source": [
    "# Checking for duplicates \n",
    "df.duplicated().sum()"
   ]
  },
  {
   "cell_type": "code",
   "execution_count": null,
   "metadata": {},
   "outputs": [],
   "source": [
    "# Checking for duplicates filtering for same name and platform\n",
    "df[df[['name', 'platform']].duplicated()].value_counts(ascending=False)"
   ]
  },
  {
   "cell_type": "code",
   "execution_count": null,
   "metadata": {
    "scrolled": true
   },
   "outputs": [],
   "source": [
    "# checking for duplicates based on same name, platform, genre\n",
    "df[df[['name','platform', 'genre']].duplicated()]"
   ]
  },
  {
   "cell_type": "code",
   "execution_count": null,
   "metadata": {},
   "outputs": [],
   "source": [
    "# looking for games with duplicate platform and year of release as hidden duplicates\n",
    "df[df[['name','platform', 'year_of_release']].duplicated()]"
   ]
  },
  {
   "cell_type": "code",
   "execution_count": null,
   "metadata": {},
   "outputs": [],
   "source": [
    "# Checking for Sonic\n",
    "df[df['name']== 'Sonic the Hedgehog']"
   ]
  },
  {
   "cell_type": "code",
   "execution_count": null,
   "metadata": {},
   "outputs": [],
   "source": [
    "# Looking for Need for Speed\n",
    "df[df['name']== 'Need for Speed: Most Wanted']"
   ]
  },
  {
   "cell_type": "code",
   "execution_count": null,
   "metadata": {},
   "outputs": [],
   "source": [
    "# Looking at Madden hidden duplicates\n",
    "df[df['name']== 'Madden NFL 13']"
   ]
  },
  {
   "cell_type": "code",
   "execution_count": null,
   "metadata": {},
   "outputs": [],
   "source": [
    "# Dropping the hidden duplicate\n",
    "df = df.drop_duplicates(subset=['name','platform', 'year_of_release'], keep='first')"
   ]
  },
  {
   "cell_type": "code",
   "execution_count": null,
   "metadata": {
    "scrolled": true
   },
   "outputs": [],
   "source": [
    "# QC check\n",
    "df[df[['name','platform', 'genre', 'year_of_release']].duplicated()]"
   ]
  },
  {
   "cell_type": "code",
   "execution_count": null,
   "metadata": {
    "scrolled": false
   },
   "outputs": [],
   "source": [
    "# looking for hidden duplicates\n",
    "df.groupby(['name', 'platform'])['name'].value_counts(ascending=False)"
   ]
  },
  {
   "attachments": {},
   "cell_type": "markdown",
   "metadata": {},
   "source": [
    "We see Madden 13 has a hidden duplicate among the PS3 platform. We decide to keep the first, and drop the second instance, as the second has minimal data. Sonic and Need for speed do not have duplicate games, released on the same platform, in the same year. "
   ]
  },
  {
   "cell_type": "markdown",
   "metadata": {},
   "source": [
    "### Checking for Missing Values"
   ]
  },
  {
   "cell_type": "code",
   "execution_count": null,
   "metadata": {
    "scrolled": true
   },
   "outputs": [],
   "source": [
    "# Looking for missing values\n",
    "df.isna().sum()"
   ]
  },
  {
   "cell_type": "markdown",
   "metadata": {},
   "source": [
    "#### Missing Names"
   ]
  },
  {
   "cell_type": "code",
   "execution_count": null,
   "metadata": {
    "scrolled": true
   },
   "outputs": [],
   "source": [
    "# Visual of the rows of missing names\n",
    "df[df['name'].isna()]"
   ]
  },
  {
   "cell_type": "code",
   "execution_count": null,
   "metadata": {},
   "outputs": [],
   "source": [
    "# Dropping the rows of missing names\n",
    "df = df.dropna(subset=['name', 'genre'])"
   ]
  },
  {
   "cell_type": "markdown",
   "metadata": {},
   "source": [
    "#### Missing Year of Release"
   ]
  },
  {
   "cell_type": "code",
   "execution_count": null,
   "metadata": {
    "scrolled": true
   },
   "outputs": [],
   "source": [
    "# Looking for vales with missing release years\n",
    "df[df['year_of_release'].isna()]"
   ]
  },
  {
   "cell_type": "code",
   "execution_count": null,
   "metadata": {
    "scrolled": false
   },
   "outputs": [],
   "source": [
    "# Mean release year per platform\n",
    "df.groupby('platform')['year_of_release'].mean().round()"
   ]
  },
  {
   "cell_type": "code",
   "execution_count": null,
   "metadata": {},
   "outputs": [],
   "source": [
    "# Median release year per platform\n",
    "df.groupby('platform')['year_of_release'].median()"
   ]
  },
  {
   "cell_type": "code",
   "execution_count": null,
   "metadata": {},
   "outputs": [],
   "source": [
    "# Percent of data with missing year\n",
    "(df['year_of_release'].isna().sum() / df['year_of_release'].count()) * 100"
   ]
  },
  {
   "cell_type": "code",
   "execution_count": null,
   "metadata": {},
   "outputs": [],
   "source": [
    "# fill year of release based on median of platform grouping\n",
    "df = df.dropna(subset=['year_of_release'])"
   ]
  },
  {
   "cell_type": "code",
   "execution_count": null,
   "metadata": {},
   "outputs": [],
   "source": [
    "# checking removal of missing values\n",
    "df['year_of_release'].isna().sum()"
   ]
  },
  {
   "cell_type": "code",
   "execution_count": null,
   "metadata": {},
   "outputs": [],
   "source": [
    "# Change release year to integer\n",
    "df['year_of_release'] = df['year_of_release'].astype('int')"
   ]
  },
  {
   "cell_type": "code",
   "execution_count": null,
   "metadata": {},
   "outputs": [],
   "source": [
    "# info on columns\n",
    "df.info()"
   ]
  },
  {
   "cell_type": "markdown",
   "metadata": {},
   "source": [
    "#### Missing Rating"
   ]
  },
  {
   "cell_type": "code",
   "execution_count": null,
   "metadata": {},
   "outputs": [],
   "source": [
    "# Looking for missing ratings\n",
    "df['rating'].isna().sum()"
   ]
  },
  {
   "cell_type": "code",
   "execution_count": null,
   "metadata": {
    "scrolled": true
   },
   "outputs": [],
   "source": [
    "# trying to figure out missing ratings\n",
    "df.groupby(['name','genre', 'platform'])['rating'].value_counts()"
   ]
  },
  {
   "cell_type": "code",
   "execution_count": null,
   "metadata": {
    "scrolled": true
   },
   "outputs": [],
   "source": [
    "# The ratings of the titles, based on the platform\n",
    "df.groupby(['name', 'platform'])['rating'].value_counts()"
   ]
  },
  {
   "cell_type": "code",
   "execution_count": null,
   "metadata": {
    "scrolled": false
   },
   "outputs": [],
   "source": [
    "# Grouping titles based on rating\n",
    "df.groupby('name')['rating'].value_counts()"
   ]
  },
  {
   "cell_type": "code",
   "execution_count": null,
   "metadata": {
    "scrolled": true
   },
   "outputs": [],
   "source": [
    "# Rating count per title\n",
    "df[['name', 'rating']].value_counts()"
   ]
  },
  {
   "cell_type": "code",
   "execution_count": null,
   "metadata": {
    "scrolled": true
   },
   "outputs": [],
   "source": [
    "# counting the different ratings of platforms\n",
    "platform_rating = df[['platform', 'rating']].value_counts().reset_index()\n",
    "display(platform_rating)"
   ]
  },
  {
   "cell_type": "code",
   "execution_count": null,
   "metadata": {},
   "outputs": [],
   "source": [
    "# sorting by platform\n",
    "platform_rating.sort_values('platform')"
   ]
  },
  {
   "cell_type": "code",
   "execution_count": null,
   "metadata": {
    "scrolled": true
   },
   "outputs": [],
   "source": [
    "# Best option \n",
    "genre_rating = df[['genre', 'rating']].value_counts()"
   ]
  },
  {
   "attachments": {},
   "cell_type": "markdown",
   "metadata": {},
   "source": [
    "We dropped the two entries with missing names, as they also had other critical data that was missing. We fill in missing year of release based on the median of the year the platform was released. This should have a minimal effect on our data, as we are filling a few hundred missing values. Then, we changed the year of release into an integer type, as we should not have decimals in our years. \n",
    "\n",
    "We fill TBD user scores with zero, to differentiate them from the other scores. Using a median value would change the results of the data. We believe these values are labeled as TBD, as a filler because data was not collected or missing. Another possibility is the users are still providing data on the scores of the games, or not enough data has been collected.  \n",
    "\n",
    "We looked at grouping the data to determine a median value to replace the missing score and ratings data. The best option was to determine the ratings by genre. However, we decided to keep missing user score, critic score, and rating values as is. We decide to keep those missing values, as filling them in with mean or median values would alter the data, as roughly half of those data points are currently missing. We notice that those rows missing scores are also missing ratings. Therefore, the negative effect of these games on the data is limited. Also, we refrain from dropping those rows, as they still have crucial sales, genre, name, and platform data. "
   ]
  },
  {
   "cell_type": "markdown",
   "metadata": {},
   "source": [
    "## Feature Engineering"
   ]
  },
  {
   "cell_type": "code",
   "execution_count": null,
   "metadata": {},
   "outputs": [],
   "source": [
    "# Changing game names to lowercase, platforms to uppercase\n",
    "df['name'] = df['name'].str.lower()\n",
    "df['platform'] = df['platform'].str.upper()"
   ]
  },
  {
   "cell_type": "code",
   "execution_count": null,
   "metadata": {},
   "outputs": [],
   "source": [
    "# scaling down critic score\n",
    "df['critic_score'] = df['critic_score'] / 10"
   ]
  },
  {
   "cell_type": "code",
   "execution_count": null,
   "metadata": {},
   "outputs": [],
   "source": [
    "# Creating average score column\n",
    "df['average_score'] = df[['critic_score', 'user_score']].mean(axis=1)"
   ]
  },
  {
   "cell_type": "code",
   "execution_count": null,
   "metadata": {},
   "outputs": [],
   "source": [
    "# Adding total sales column\n",
    "df['total_sales'] = df[['na_sales','eu_sales', 'jp_sales', 'other_sales']].sum(axis=1)"
   ]
  },
  {
   "cell_type": "code",
   "execution_count": null,
   "metadata": {},
   "outputs": [],
   "source": [
    "# Adding average sales column\n",
    "df['average_sales'] = df[['na_sales','eu_sales', 'jp_sales', 'other_sales']].mean(axis=1)"
   ]
  },
  {
   "attachments": {},
   "cell_type": "markdown",
   "metadata": {},
   "source": [
    "We scale down critic score to the same scale as user score, so we can get an average score column. Average score is the mean of user and critic scores. We add a total sales and an average sales column to the data. "
   ]
  },
  {
   "cell_type": "markdown",
   "metadata": {},
   "source": [
    "## Analyzing Data"
   ]
  },
  {
   "cell_type": "markdown",
   "metadata": {},
   "source": [
    "### Game Releases"
   ]
  },
  {
   "cell_type": "code",
   "execution_count": null,
   "metadata": {
    "scrolled": true
   },
   "outputs": [],
   "source": [
    "# Number of games released in each year\n",
    "game_years = df['year_of_release'].value_counts()\n",
    "game_years = pd.DataFrame(game_years)"
   ]
  },
  {
   "cell_type": "code",
   "execution_count": null,
   "metadata": {},
   "outputs": [],
   "source": [
    "# The years with the largest number of games released\n",
    "game_years.head()"
   ]
  },
  {
   "cell_type": "code",
   "execution_count": null,
   "metadata": {},
   "outputs": [],
   "source": [
    "# plot of games released each year\n",
    "px.bar(game_years, title='Number of Games Released Each Year').show()"
   ]
  },
  {
   "cell_type": "code",
   "execution_count": null,
   "metadata": {},
   "outputs": [],
   "source": [
    "# games released per genre\n",
    "px.histogram(df, x='year_of_release', color='genre', title='Number of Games Released Per Genre').show()"
   ]
  },
  {
   "cell_type": "code",
   "execution_count": null,
   "metadata": {},
   "outputs": [],
   "source": [
    "# games released per platform\n",
    "px.histogram(df, x='year_of_release', color='platform', title='Number of Games Released Per Platform').show()"
   ]
  },
  {
   "cell_type": "markdown",
   "metadata": {},
   "source": [
    "#### Conclusions"
   ]
  },
  {
   "attachments": {},
   "cell_type": "markdown",
   "metadata": {},
   "source": [
    "We see a steady increase in the number of games released from the early 90's. Game releases peak in 2008, then sharply decrease going into 2016. Sports and action games are the genres that have the most releases throughout the time period. The data also shows the changing of the various gaming platforms over time, as new platforms replace old generations. "
   ]
  },
  {
   "cell_type": "code",
   "execution_count": null,
   "metadata": {
    "scrolled": true
   },
   "outputs": [],
   "source": [
    "# Looking at all the different platforms \n",
    "df['platform'].unique()"
   ]
  },
  {
   "cell_type": "code",
   "execution_count": null,
   "metadata": {
    "scrolled": true
   },
   "outputs": [],
   "source": [
    "# Looking at all the all the genres\n",
    "df['genre'].unique()"
   ]
  },
  {
   "cell_type": "code",
   "execution_count": null,
   "metadata": {
    "scrolled": true
   },
   "outputs": [],
   "source": [
    "# Median critic score of each platform\n",
    "df.groupby('platform')['critic_score'].median()"
   ]
  },
  {
   "cell_type": "code",
   "execution_count": null,
   "metadata": {
    "scrolled": true
   },
   "outputs": [],
   "source": [
    "# Counts of different user scores\n",
    "df['user_score'].value_counts()"
   ]
  },
  {
   "cell_type": "code",
   "execution_count": null,
   "metadata": {
    "scrolled": true
   },
   "outputs": [],
   "source": [
    "# Median of user score per platform\n",
    "df.groupby('platform')['user_score'].median()"
   ]
  },
  {
   "cell_type": "code",
   "execution_count": null,
   "metadata": {
    "scrolled": true
   },
   "outputs": [],
   "source": [
    "# Total sales based on median user score\n",
    "df.groupby('total_sales')['user_score'].median()"
   ]
  },
  {
   "cell_type": "code",
   "execution_count": null,
   "metadata": {
    "scrolled": true
   },
   "outputs": [],
   "source": [
    "# Count of the different ratings \n",
    "df['rating'].value_counts()"
   ]
  },
  {
   "cell_type": "code",
   "execution_count": null,
   "metadata": {
    "scrolled": true
   },
   "outputs": [],
   "source": [
    "# Platform average and total sales\n",
    "top_platforms = df.pivot_table(index='platform', values=['total_sales', 'average_sales'], aggfunc='sum').reset_index()"
   ]
  },
  {
   "cell_type": "markdown",
   "metadata": {},
   "source": [
    "### Top Grossing Years"
   ]
  },
  {
   "cell_type": "code",
   "execution_count": null,
   "metadata": {
    "scrolled": true
   },
   "outputs": [],
   "source": [
    "# top grossing year\n",
    "top_five_years = df.pivot_table(index='year_of_release', values=['total_sales', 'average_sales'], aggfunc='sum').reset_index()\n",
    "top_five_years = top_five_years.nlargest(5, columns='total_sales')"
   ]
  },
  {
   "cell_type": "code",
   "execution_count": null,
   "metadata": {
    "scrolled": true
   },
   "outputs": [],
   "source": [
    "# top 5 grossing years\n",
    "px.bar(top_five_years, x='year_of_release', y=['total_sales', 'average_sales'], barmode='group', title='Total Sales Per Top Release Year').show()"
   ]
  },
  {
   "attachments": {},
   "cell_type": "markdown",
   "metadata": {},
   "source": [
    "When it comes to sales, the top grossing years are from 2006 to 2010. The year 2009 had the most game sales in the entire 37 year period from 1985 to 2016. This represents the era of the PS3, X360, and the WII, which explains why these platforms were so popular. "
   ]
  },
  {
   "cell_type": "markdown",
   "metadata": {},
   "source": [
    "### Total and Average Sales Per Platform"
   ]
  },
  {
   "cell_type": "code",
   "execution_count": null,
   "metadata": {},
   "outputs": [],
   "source": [
    "# platform total and average sales\n",
    "px.bar(top_platforms, x='platform', y=['total_sales', 'average_sales'], barmode='group', title='Platform Sales').show()"
   ]
  },
  {
   "attachments": {},
   "cell_type": "markdown",
   "metadata": {},
   "source": [
    "We see that the PS2 was the most successful platform from 1985 to 2016. Other popular platforms are the X360, PS3, WII and DS. We also see that the upgraded version of these platforms are not yet as popular. This may be due to their competition with the predecessors, as the new versions are released about half a decade int the predecessors run. Looking to the future, one would expect the PS4 to dominate the other platforms, while the XONE, WIIU and 3DS would follow as the new generation platforms.\n",
    "\n",
    "We will analyze the historic data for context, then analyze the most recent time periods to make predictions for 2017.\n",
    "\n"
   ]
  },
  {
   "cell_type": "markdown",
   "metadata": {},
   "source": [
    "### Platform Sales by Region"
   ]
  },
  {
   "cell_type": "code",
   "execution_count": null,
   "metadata": {},
   "outputs": [],
   "source": [
    "# Platform sales by region, average and total\n",
    "platform_sales = df.pivot_table(index='platform', values=['na_sales', 'eu_sales', 'jp_sales', 'other_sales', 'total_sales', 'average_sales'], aggfunc='sum').reset_index()\n"
   ]
  },
  {
   "cell_type": "code",
   "execution_count": null,
   "metadata": {},
   "outputs": [],
   "source": [
    "# platform regional sales\n",
    "px.bar(platform_sales, x='platform', y=['eu_sales','na_sales', \n",
    "'jp_sales', 'other_sales'], width=1400, title='Regional Sales Per Platform').show()"
   ]
  },
  {
   "attachments": {},
   "cell_type": "markdown",
   "metadata": {},
   "source": [
    "Platform sales by region breaks down the sales based on the variable regions in our dataset. We see that North America leads in the sales of most of the platforms, followed by Europe. Japan regional sales shows which platforms users prefer there. "
   ]
  },
  {
   "cell_type": "markdown",
   "metadata": {},
   "source": [
    "### Top Grossing Platforms"
   ]
  },
  {
   "cell_type": "code",
   "execution_count": null,
   "metadata": {
    "scrolled": false
   },
   "outputs": [],
   "source": [
    "# top grossing platforms\n",
    "top_five_platforms = df.pivot_table(index='platform', values=['eu_sales','na_sales', \n",
    "'jp_sales', 'other_sales', 'total_sales', 'average_sales'], aggfunc='sum').reset_index()\n",
    "top_five_platforms = top_five_platforms.nlargest(5, columns='total_sales')\n"
   ]
  },
  {
   "cell_type": "code",
   "execution_count": null,
   "metadata": {},
   "outputs": [],
   "source": [
    "# platform sales\n",
    "px.bar(top_five_platforms, x='platform', y='total_sales',\n",
    " color='platform', title='Total Sales Per Platform').show()"
   ]
  },
  {
   "cell_type": "code",
   "execution_count": null,
   "metadata": {},
   "outputs": [],
   "source": [
    "# platform total and average sales\n",
    "px.bar(top_five_platforms, x='platform', y=['total_sales', 'average_sales'],\n",
    "barmode='group', title='Sales Per Platform', width=1200).show()"
   ]
  },
  {
   "cell_type": "code",
   "execution_count": null,
   "metadata": {},
   "outputs": [],
   "source": [
    "# platform sales boxplot\n",
    "px.box(platform_sales, x='platform', y=['na_sales', 'eu_sales', 'jp_sales', 'other_sales'], title='Platform Sales').show()"
   ]
  },
  {
   "attachments": {},
   "cell_type": "markdown",
   "metadata": {},
   "source": [
    "As we saw from previous results, the top grossing platforms were the PS2, X360, PS3, WII and the DS. Note that these platforms are not the latest platforms to come to market, so they have had a longer lifespan to build sales. Surprisingly, the PS2 is still the leader, despite the PS3 holding the number 3 position, and the PS4 being released. The box plots illustrate the differences in the statistics of the platform sales. We see some platforms have a wide range, while others have an extremely tight range.  "
   ]
  },
  {
   "cell_type": "markdown",
   "metadata": {},
   "source": [
    "### Top Grossing Genres"
   ]
  },
  {
   "cell_type": "code",
   "execution_count": null,
   "metadata": {
    "scrolled": true
   },
   "outputs": [],
   "source": [
    "# top grossing genre\n",
    "top_five_genres = df.pivot_table(index='genre', values=['total_sales', 'average_sales'], aggfunc='sum').reset_index()\n",
    "top_five_genres = top_five_genres.nlargest(5, columns='total_sales')\n"
   ]
  },
  {
   "cell_type": "code",
   "execution_count": null,
   "metadata": {},
   "outputs": [],
   "source": [
    "# sales of top 5 genres\n",
    "px.bar(top_five_genres, x='genre', y='total_sales',\n",
    " color='genre', width=1300, title='Total Sales Among Top Genres').show()"
   ]
  },
  {
   "cell_type": "code",
   "execution_count": null,
   "metadata": {},
   "outputs": [],
   "source": [
    "# total and averag sales, top 5 genres\n",
    "px.bar(top_five_genres, x='genre', y=['total_sales', 'average_sales'],\n",
    "width=1300, barmode='group', title='Sales Among Top Genres').show()"
   ]
  },
  {
   "cell_type": "code",
   "execution_count": null,
   "metadata": {
    "scrolled": true
   },
   "outputs": [],
   "source": [
    "# share of top 5 genres\n",
    "px.pie(top_five_genres, values='total_sales', names='genre').show()"
   ]
  },
  {
   "attachments": {},
   "cell_type": "markdown",
   "metadata": {},
   "source": [
    "The top grossing genres were action, sports, shooter, role playing, and platform. Now of the top 5 platforms, action games take a 29.6% market share, while sports takes up 22.6%. "
   ]
  },
  {
   "cell_type": "markdown",
   "metadata": {},
   "source": [
    "### Top Grossing Games"
   ]
  },
  {
   "cell_type": "code",
   "execution_count": null,
   "metadata": {
    "scrolled": true
   },
   "outputs": [],
   "source": [
    "# top grossing games\n",
    "top_five_games = df.pivot_table(index='name', values=['total_sales', 'average_sales'], aggfunc='sum').reset_index()\n",
    "top_five_games = top_five_games.nlargest(5, columns='total_sales')"
   ]
  },
  {
   "cell_type": "code",
   "execution_count": null,
   "metadata": {},
   "outputs": [],
   "source": [
    "# sales of top 5 games\n",
    "px.bar(top_five_games, x='name', y='total_sales', \n",
    "color='name', title='Sales Among Top Games').show()"
   ]
  },
  {
   "cell_type": "code",
   "execution_count": null,
   "metadata": {},
   "outputs": [],
   "source": [
    "# total and average sales, top 5 games\n",
    "px.bar(top_five_games, x='name', y=['total_sales', 'average_sales'], barmode='group', title='Sales Among Top Games').show()"
   ]
  },
  {
   "attachments": {},
   "cell_type": "markdown",
   "metadata": {},
   "source": [
    "The top grossing games of this time frame are WII sports, GTA V, Super Mario Bros, Tetris, and Mario Kart WII. These entries explain why the WII is one of the top 5 platforms by sales. This is also significant, as WII games are not played across platforms. WII sports being a sports genre game supports the conclusion of sports being one of the top selling genres. Since GTA V is an action game, this supports that genre being in the top five as well. "
   ]
  },
  {
   "cell_type": "markdown",
   "metadata": {},
   "source": [
    "### Sales Based on Critic Scores"
   ]
  },
  {
   "cell_type": "code",
   "execution_count": null,
   "metadata": {},
   "outputs": [],
   "source": [
    "# Sales based on critic scores\n",
    "critic_sales = df.pivot_table(index='critic_score', values=['eu_sales','na_sales', \n",
    "'jp_sales', 'other_sales', 'total_sales', 'average_sales'], aggfunc='sum').reset_index()"
   ]
  },
  {
   "cell_type": "code",
   "execution_count": null,
   "metadata": {
    "scrolled": true
   },
   "outputs": [],
   "source": [
    "# top grossing critic score\n",
    "top_five_critic = critic_sales.nlargest(5, columns=['total_sales', 'average_sales'])"
   ]
  },
  {
   "cell_type": "code",
   "execution_count": null,
   "metadata": {},
   "outputs": [],
   "source": [
    "# regional sales, critic scores\n",
    "px.bar(critic_sales, x='critic_score', y=['eu_sales','na_sales', \n",
    "'jp_sales', 'other_sales'], title='Regional Sales Based on Critic Scores').show()"
   ]
  },
  {
   "cell_type": "code",
   "execution_count": null,
   "metadata": {},
   "outputs": [],
   "source": [
    "# average sales, critic scores\n",
    "px.bar(critic_sales, x='critic_score', y='average_sales', title='Average Sales Based on Critic Score').show()"
   ]
  },
  {
   "cell_type": "code",
   "execution_count": null,
   "metadata": {
    "scrolled": true
   },
   "outputs": [],
   "source": [
    "# total and average sales, critic scores\n",
    "px.bar(top_five_critic, x='critic_score', y=['total_sales', 'average_sales'], barmode='group',\n",
    "    title='Total and Average Sales Based on Critic Score').show()"
   ]
  },
  {
   "cell_type": "code",
   "execution_count": null,
   "metadata": {},
   "outputs": [],
   "source": [
    "# correlation of sales and critic scores\n",
    "df[['critic_score', 'eu_sales', 'jp_sales', 'na_sales', 'total_sales']].corr()"
   ]
  },
  {
   "attachments": {},
   "cell_type": "markdown",
   "metadata": {},
   "source": [
    "We see the bar graph of total sales skewed to the left, and distributed around a critic score of 8. The data suggest critic scores are a poor determinate of total sales. We see that the games with the highest scores, do not have the highest sales. The data shows us that games with a critic score of 8, have the highest total sales. Yet, games with lower critic scores do have lower sales.  Correlation data confirms a weak correlation between critic score and sales. "
   ]
  },
  {
   "cell_type": "markdown",
   "metadata": {},
   "source": [
    "### Sales Based on User Scores"
   ]
  },
  {
   "cell_type": "code",
   "execution_count": null,
   "metadata": {},
   "outputs": [],
   "source": [
    "# Sorting by user score, then getting data on sales\n",
    "user_sales = df.pivot_table(index='user_score', values=['eu_sales','na_sales', \n",
    "'jp_sales', 'other_sales', 'total_sales', 'average_sales'], aggfunc='sum').reset_index()\n"
   ]
  },
  {
   "cell_type": "code",
   "execution_count": null,
   "metadata": {},
   "outputs": [],
   "source": [
    "#regional sales\n",
    "fig = px.bar(user_sales, x='user_score', y=['eu_sales','na_sales', \n",
    "'jp_sales', 'other_sales'], title='Regional Sales Based on User Scores', )\n",
    "\n",
    "fig.update_xaxes(range=[0.1, 10])\n",
    "fig.show()"
   ]
  },
  {
   "cell_type": "code",
   "execution_count": null,
   "metadata": {},
   "outputs": [],
   "source": [
    "# average sales\n",
    "fig = px.bar(user_sales, x='user_score', y='average_sales', title='Average Sales Based on User Score')\n",
    "\n",
    "fig.update_xaxes(range=[0.1, 10])\n",
    "fig.show()"
   ]
  },
  {
   "cell_type": "code",
   "execution_count": null,
   "metadata": {},
   "outputs": [],
   "source": [
    "# top grossing user score\n",
    "top_five_user = user_sales.nlargest(5, columns=['total_sales', 'average_sales'])"
   ]
  },
  {
   "cell_type": "code",
   "execution_count": null,
   "metadata": {
    "scrolled": true
   },
   "outputs": [],
   "source": [
    "# sales of top scores\n",
    "fig = px.bar(top_five_user, x='user_score', y=['total_sales', 'average_sales'], barmode='group', \n",
    "title='Total and Average Sales Based on User Score')\n",
    "\n",
    "fig.update_xaxes(range=[6, 10])\n",
    "fig.show()"
   ]
  },
  {
   "cell_type": "code",
   "execution_count": null,
   "metadata": {},
   "outputs": [],
   "source": [
    "# correlation of user score and sales\n",
    "df[['user_score', 'eu_sales', 'jp_sales', 'na_sales', 'total_sales']].corr()"
   ]
  },
  {
   "attachments": {},
   "cell_type": "markdown",
   "metadata": {},
   "source": [
    "We see the same trend in user scores and critic scores, when looking at sales data. We see a left skewed distribution around a score of 8. Then, higher rated games do not show higher total sales. Games with the user score of 8 show the highest total sales. Correlation confirms a weak correlation between user score and sales. "
   ]
  },
  {
   "cell_type": "markdown",
   "metadata": {},
   "source": [
    "### Sales Based on Average Scores"
   ]
  },
  {
   "cell_type": "code",
   "execution_count": null,
   "metadata": {},
   "outputs": [],
   "source": [
    "# Sorting data by average score, then looking at sales\n",
    "average_score_sales = df.pivot_table(index='average_score', values=['eu_sales','na_sales', \n",
    "'jp_sales', 'other_sales', 'total_sales', 'average_sales'], aggfunc='sum').reset_index()\n"
   ]
  },
  {
   "cell_type": "code",
   "execution_count": null,
   "metadata": {},
   "outputs": [],
   "source": [
    "# regional sales and average scores\n",
    "fig = px.bar(average_score_sales, x='average_score', y=['eu_sales','na_sales', \n",
    "'jp_sales', 'other_sales'], title='Regional Sales Based on Average Scores')\n",
    "\n",
    "fig.update_xaxes(range=[0.1, 10])\n",
    "fig.show()"
   ]
  },
  {
   "cell_type": "code",
   "execution_count": null,
   "metadata": {},
   "outputs": [],
   "source": [
    "# average sales, average score\n",
    "fig = px.bar(average_score_sales, x='average_score', y='average_sales', title='Average Sales Based on Average Score')\n",
    "\n",
    "fig.update_xaxes(range=[0.1, 10])\n",
    "fig.show()"
   ]
  },
  {
   "attachments": {},
   "cell_type": "markdown",
   "metadata": {},
   "source": [
    "Taking the average of user and critic scores slightly changes the top selling score to a 7.8. The shape and distribution of the sales stays mostly the same. "
   ]
  },
  {
   "cell_type": "markdown",
   "metadata": {},
   "source": [
    "### Yearly Sales"
   ]
  },
  {
   "cell_type": "code",
   "execution_count": null,
   "metadata": {},
   "outputs": [],
   "source": [
    "# Dataframe of sales based on release year\n",
    "yearly_sales = df.groupby('year_of_release')['total_sales', 'average_sales'].sum().sort_values(by='total_sales', ascending=False).reset_index()"
   ]
  },
  {
   "cell_type": "code",
   "execution_count": null,
   "metadata": {},
   "outputs": [],
   "source": [
    "# total sales, year of release\n",
    "px.bar(yearly_sales, x='year_of_release', y=['total_sales', 'average_sales'], title='Total Sales by Year of Release', barmode='group').show()"
   ]
  },
  {
   "attachments": {},
   "cell_type": "markdown",
   "metadata": {},
   "source": [
    "We see how sales are generally distributed from 2001 to 2013. The total sales rose from 1996 to its peak in 2008. Since 2008, we have seen a steady decline in sales, back to the levels of the late 80's. "
   ]
  },
  {
   "cell_type": "markdown",
   "metadata": {},
   "source": [
    "#### Yearly Sales Based on Region"
   ]
  },
  {
   "cell_type": "code",
   "execution_count": null,
   "metadata": {},
   "outputs": [],
   "source": [
    "# yearly regional sales pivot table\n",
    "yearly_region_sales = df.pivot_table(index='year_of_release', values=['na_sales', 'eu_sales', 'jp_sales', 'other_sales', 'total_sales', 'average_sales'], aggfunc='sum').reset_index()"
   ]
  },
  {
   "cell_type": "code",
   "execution_count": null,
   "metadata": {},
   "outputs": [],
   "source": [
    "# plot pivot table\n",
    "px.bar(yearly_region_sales, x='year_of_release', \n",
    "y=['na_sales', 'eu_sales', 'jp_sales', 'other_sales'], title='Regional Sales Based on Year of Release').show()"
   ]
  },
  {
   "cell_type": "code",
   "execution_count": null,
   "metadata": {},
   "outputs": [],
   "source": [
    "# plot pivot table, average sales\n",
    "px.bar(yearly_region_sales, x='year_of_release', \n",
    "y='average_sales', title='Average Sales Based on Year of Release').show()"
   ]
  },
  {
   "attachments": {},
   "cell_type": "markdown",
   "metadata": {},
   "source": [
    "Customers in North America tend to buy more games than customers of the other regions, generally throughout time. Sales in the Japanese region was most significant in the early 90's. The European region has seen a boost in sales starting from the mid 90's. "
   ]
  },
  {
   "cell_type": "markdown",
   "metadata": {},
   "source": [
    "#### Lifespan of the Platforms"
   ]
  },
  {
   "cell_type": "code",
   "execution_count": null,
   "metadata": {},
   "outputs": [],
   "source": [
    "# lifespan of the different platforms\n",
    "platform_lifespan = df.groupby('platform')['year_of_release'].value_counts()\n",
    "platform_lifespan = pd.DataFrame(platform_lifespan)"
   ]
  },
  {
   "cell_type": "code",
   "execution_count": null,
   "metadata": {},
   "outputs": [],
   "source": [
    "# reset the index for cleaner dataframe\n",
    "platform_years = df.groupby(['platform', 'year_of_release'])['total_sales', 'average_sales'].count().reset_index(level=0)\n",
    "platform_years = platform_years.reset_index()"
   ]
  },
  {
   "cell_type": "code",
   "execution_count": null,
   "metadata": {},
   "outputs": [],
   "source": [
    "# Make a pivot table of platform and years of release, with total sales values\n",
    "platform_pivot = platform_years.pivot_table(index='platform', columns='year_of_release', values='total_sales',)"
   ]
  },
  {
   "cell_type": "code",
   "execution_count": null,
   "metadata": {},
   "outputs": [],
   "source": [
    "# filter pivot for recent years\n",
    "relevant_pp = platform_pivot.loc[:, 2013:2016].dropna()"
   ]
  },
  {
   "cell_type": "code",
   "execution_count": null,
   "metadata": {},
   "outputs": [],
   "source": [
    "# Adding a lifespan count column\n",
    "relevant_pp['count'] = platform_pivot.loc[:, 2013:2016].dropna().sum(axis=1)"
   ]
  },
  {
   "cell_type": "code",
   "execution_count": null,
   "metadata": {},
   "outputs": [],
   "source": [
    "# Extracting the count colum to show lifespan of the platforms, descending order\n",
    "platform_count_years = relevant_pp.count(axis=1)\n",
    "platform_count_years = platform_count_years.sort_values(ascending=False)\n",
    "platform_count_years.reset_index()"
   ]
  },
  {
   "cell_type": "code",
   "execution_count": null,
   "metadata": {},
   "outputs": [],
   "source": [
    "# statistical overview\n",
    "platform_count_years.describe()"
   ]
  },
  {
   "attachments": {},
   "cell_type": "markdown",
   "metadata": {},
   "source": [
    "The platform with the longest lifespan, as of 2016, is the PC. This is intuitive, as the PC has been around for a long time, and so have PC games. This is an outlier, as most platforms now have been around for 5 years. When looking at data from 2013-2016, the median and mean lifespan is 5 years. Therefore, the measure of a successful platform is one that has sales for at least 5 years. Furthermore, we can generally expect a successful platform to survive more than 5 years. "
   ]
  },
  {
   "cell_type": "markdown",
   "metadata": {},
   "source": [
    "#### Data for every year is not significant for what we are trying to achieve. "
   ]
  },
  {
   "cell_type": "markdown",
   "metadata": {},
   "source": [
    "### Top Platforms from 2000-2016"
   ]
  },
  {
   "cell_type": "code",
   "execution_count": null,
   "metadata": {},
   "outputs": [],
   "source": [
    "# Filtering platforms by choices\n",
    "platform_pivot_filtered = platform_pivot.loc[['PS2', 'PS3', 'WII', 'X360', 'DS']].dropna(axis=1, how='all')\n",
    "platform_pivot_filtered"
   ]
  },
  {
   "cell_type": "code",
   "execution_count": null,
   "metadata": {},
   "outputs": [],
   "source": [
    "# filter out DS in 1985\n",
    "final_platform_pivot =platform_pivot_filtered.loc[:,2000:2016]\n",
    "final_platform_pivot = final_platform_pivot.reset_index()\n",
    "final_platform_pivot"
   ]
  },
  {
   "cell_type": "code",
   "execution_count": null,
   "metadata": {},
   "outputs": [],
   "source": [
    "# Total Sales column \n",
    "final_platform_pivot['total'] = final_platform_pivot.sum(axis=1)\n",
    "final_platform_pivot"
   ]
  },
  {
   "cell_type": "code",
   "execution_count": null,
   "metadata": {},
   "outputs": [],
   "source": [
    "# Look at the names of the columns\n",
    "final_platform_pivot.columns"
   ]
  },
  {
   "cell_type": "markdown",
   "metadata": {},
   "source": [
    "##### We filter out the DS value in 1985, as that was likely the first generation of the platform. The relevant version is the current one. \n",
    "\n"
   ]
  },
  {
   "cell_type": "code",
   "execution_count": null,
   "metadata": {},
   "outputs": [],
   "source": [
    "# list of years \n",
    "final_platform_pivot.columns.to_list()"
   ]
  },
  {
   "cell_type": "markdown",
   "metadata": {},
   "source": [
    "#### Official Release Dates\n",
    "        PS2 march, 2000\n",
    "\n",
    "        PS3 november, 2006\n",
    "\n",
    "        WII november, 2006\n",
    "\n",
    "        X360 november, 2005\n",
    "\n",
    "        DS november, 2004"
   ]
  },
  {
   "attachments": {},
   "cell_type": "markdown",
   "metadata": {},
   "source": [
    "We see that the pivot table of release years correctly illustrates the lifespan of the platforms. The PS2 was released in 2000, while the PS3 and WII were released in 2006. The XBOX 360 was released in 2005, while the new generation DS was released in 2004. The total lifespan of the PS2 was 12 years, but the platform was replaced by the PS3 in 2006, which led to steady declines in PS2 game sales. This could be attributed to people upgrading their platform to the PS3. The sales of the PS3 slowly increased as the PS2 sales decreased. It took 3 years for PS3 game sales to overtake PS2 game sales. We also see that the Xbox 360 came out in 2006, as the games sales of it and the PS3 would compete with each other. The lifespan of the PS3 seems to continue beyond 2016, while the Xbox 360 started leveling off in 2012. This is interesting, as Xbox game sales peaked first, and was not overtaken by PS3 game sales until 2011. The WII platform was released in 2005, and still sees a small number of sales, only beginning to level off in 2016. The Nintendo DS was released in 2004, and saw a lifespan of 10 years, leveling off in 2012 to no game sales in 2014. "
   ]
  },
  {
   "cell_type": "code",
   "execution_count": null,
   "metadata": {},
   "outputs": [],
   "source": [
    "# platform lifespans\n",
    "px.bar(final_platform_pivot, x='platform', \n",
    "y=[ 2000, 2001, 2002, 2003, 2004, 2005, 2006, 2007, 2008, 2009, 2010, 2011, 2012, 2013, 2014, 2015, 2016,], \n",
    "title='Platform Lifespans 2000 to 2016').show()"
   ]
  },
  {
   "cell_type": "markdown",
   "metadata": {},
   "source": [
    "### Top Platforms of Period 2013-2016"
   ]
  },
  {
   "cell_type": "code",
   "execution_count": null,
   "metadata": {},
   "outputs": [],
   "source": [
    "# Filter data by last 4 years\n",
    "last_period_sales = yearly_sales.sort_values('year_of_release', ascending=False).head(4)"
   ]
  },
  {
   "cell_type": "code",
   "execution_count": null,
   "metadata": {},
   "outputs": [],
   "source": [
    "# Filter parameters\n",
    "key_platforms = ('PS2', 'X360', 'PS3', 'WII', 'DS')\n",
    "key_years = [2013, 2014, 2015, 2016]"
   ]
  },
  {
   "cell_type": "code",
   "execution_count": null,
   "metadata": {},
   "outputs": [],
   "source": [
    "# Filter dataframe based on platforms and years\n",
    "df_filtered = df[df['platform'].isin(key_platforms) & df['year_of_release'].isin(key_years)]"
   ]
  },
  {
   "cell_type": "code",
   "execution_count": null,
   "metadata": {},
   "outputs": [],
   "source": [
    "# total and average sales, recent years\n",
    "px.bar(last_period_sales, x='year_of_release', y=['total_sales', 'average_sales'], barmode='group', \n",
    "    title='Total and Average Sales based on Year of Release').show()"
   ]
  },
  {
   "cell_type": "markdown",
   "metadata": {},
   "source": [
    "### Sales of Last Four Years"
   ]
  },
  {
   "attachments": {},
   "cell_type": "markdown",
   "metadata": {},
   "source": [
    "Only data from the last period is relevant, as we are attempting to make a prediction for 2017. As such, older platforms and older years are not needed in the data for overall analysis. Here, we will use the last 4 years. "
   ]
  },
  {
   "cell_type": "markdown",
   "metadata": {},
   "source": [
    "## Most Relevant Platforms 2013-2016"
   ]
  },
  {
   "cell_type": "code",
   "execution_count": null,
   "metadata": {},
   "outputs": [],
   "source": [
    "# Most relevant platforms from recent time period\n",
    "platform_pivot.loc[['3DS', 'PC', 'PS4', 'PSV', 'XONE'], 2000:2016]"
   ]
  },
  {
   "cell_type": "code",
   "execution_count": null,
   "metadata": {},
   "outputs": [],
   "source": [
    "# Filtering platforms from 2013 to 2016, by total sales in period\n",
    "relevant_platforms = platform_pivot.loc[:,2013:2016].dropna(how='all')"
   ]
  },
  {
   "attachments": {},
   "cell_type": "markdown",
   "metadata": {},
   "source": [
    "These are the most relevant platforms, in the most relevant periods. These platforms represent a sample of the various platforms still being played. Furthermore, these are newer generation platforms that came out in the last couple of years, and have a few more years left in their life cycles. The oldest Platform is the PC. Platforms 3DS and PSV represent handheld options, while PS4 and XONE represent the period consoles for Sony and Microsoft, respectively. "
   ]
  },
  {
   "cell_type": "markdown",
   "metadata": {},
   "source": [
    "## Top 5 Most Relevant Platforms from 2013 to 2016"
   ]
  },
  {
   "cell_type": "code",
   "execution_count": null,
   "metadata": {},
   "outputs": [],
   "source": [
    "# Filter for 5 platforms in the time period\n",
    "most_relevant_platforms = relevant_platforms.loc[['3DS', 'PC', 'PS4', 'PSV', 'XONE']]\n",
    "most_relevant_platforms"
   ]
  },
  {
   "cell_type": "code",
   "execution_count": null,
   "metadata": {},
   "outputs": [],
   "source": [
    "# platform game releases, year\n",
    "px.bar(most_relevant_platforms, title='Most Relevant Platforms from 2013 to 2016', width=1200).show()"
   ]
  },
  {
   "cell_type": "code",
   "execution_count": null,
   "metadata": {},
   "outputs": [],
   "source": [
    "# total sales boxplot\n",
    "px.box(most_relevant_platforms, title='Total Sales of Platforms from 2013 to 2016', width=1200).show()"
   ]
  },
  {
   "attachments": {},
   "cell_type": "markdown",
   "metadata": {},
   "source": [
    "The most profitable platform is the PS4, and the game sales are still increasing. PC sales are the lowest, yet PC as a platform has stood the test of time and still persists. The other platforms we need to pay attention to are PSV, XONE and 3DS. "
   ]
  },
  {
   "cell_type": "markdown",
   "metadata": {},
   "source": [
    "## Differences in Sales by Platform 2013 to 2016"
   ]
  },
  {
   "cell_type": "code",
   "execution_count": null,
   "metadata": {},
   "outputs": [],
   "source": [
    "# Take the most relevant platform dataset\n",
    "df2 = most_relevant_platforms[:]"
   ]
  },
  {
   "cell_type": "code",
   "execution_count": null,
   "metadata": {},
   "outputs": [],
   "source": [
    "# Adding a column that totals platform sales\n",
    "df2['period_total'] = df2.sum(axis=1)"
   ]
  },
  {
   "cell_type": "code",
   "execution_count": null,
   "metadata": {},
   "outputs": [],
   "source": [
    "# List of most relevant platforms\n",
    "most_relevant_platforms_list = ('3DS', 'PS4', 'PC', 'XONE', 'PSV')"
   ]
  },
  {
   "cell_type": "code",
   "execution_count": null,
   "metadata": {},
   "outputs": [],
   "source": [
    "# Filter dataset by relevant platforms list, to get regional sales\n",
    "df4 = platform_sales[platform_sales['platform'].isin(most_relevant_platforms_list)]"
   ]
  },
  {
   "cell_type": "code",
   "execution_count": null,
   "metadata": {},
   "outputs": [],
   "source": [
    "# Sorted by EU sales\n",
    "df4.sort_values(by='eu_sales')"
   ]
  },
  {
   "cell_type": "code",
   "execution_count": null,
   "metadata": {},
   "outputs": [],
   "source": [
    "# Sorted by JP sales \n",
    "df4.sort_values(by='jp_sales')"
   ]
  },
  {
   "cell_type": "code",
   "execution_count": null,
   "metadata": {},
   "outputs": [],
   "source": [
    "# Sorted by NA sales\n",
    "df4.sort_values(by='na_sales')"
   ]
  },
  {
   "cell_type": "code",
   "execution_count": null,
   "metadata": {},
   "outputs": [],
   "source": [
    "# Cum sum of sales in regions\n",
    "df4_sum =df4.cumsum()\n",
    "df4_sum = df4_sum[4:]\n",
    "df4_sum"
   ]
  },
  {
   "cell_type": "markdown",
   "metadata": {},
   "source": [
    "### 3DS Platform"
   ]
  },
  {
   "cell_type": "code",
   "execution_count": null,
   "metadata": {},
   "outputs": [],
   "source": [
    "# DS ratios of total sales\n",
    "ds = pd.DataFrame((df4.iloc[0,1:] / df4_sum.iloc[0, 1:]) * 100)\n",
    "ds.columns= ['DS']\n",
    "ds.reset_index()"
   ]
  },
  {
   "cell_type": "code",
   "execution_count": null,
   "metadata": {},
   "outputs": [],
   "source": [
    "# DS ratio of total sales list\n",
    "ds_sales = ds['DS'].iloc[1:5].to_list()\n",
    "ds_sales"
   ]
  },
  {
   "cell_type": "code",
   "execution_count": null,
   "metadata": {},
   "outputs": [],
   "source": [
    "# DS regional sales numbers\n",
    "ds_box = pd.DataFrame(df4.iloc[0,1:])\n",
    "ds_box.columns= ['3DS']\n",
    "ds_box.reset_index()"
   ]
  },
  {
   "cell_type": "code",
   "execution_count": null,
   "metadata": {},
   "outputs": [],
   "source": [
    "# DS regional sales numbers list\n",
    "ds_box_sales = ds_box['3DS'].iloc[1:5].to_list()"
   ]
  },
  {
   "cell_type": "markdown",
   "metadata": {},
   "source": [
    "### PC Platform"
   ]
  },
  {
   "cell_type": "code",
   "execution_count": null,
   "metadata": {},
   "outputs": [],
   "source": [
    "# PC ratios of total sales\n",
    "pc = pd.DataFrame((df4.iloc[1,1:] / df4_sum.iloc[0, 1:]) * 100)\n",
    "pc.columns = ['PC']\n",
    "pc.reset_index()"
   ]
  },
  {
   "cell_type": "code",
   "execution_count": null,
   "metadata": {},
   "outputs": [],
   "source": [
    "# PC ratio of total sales list\n",
    "pc_sales = pc['PC'].iloc[1:5].to_list()"
   ]
  },
  {
   "cell_type": "code",
   "execution_count": null,
   "metadata": {},
   "outputs": [],
   "source": [
    "# PC regional sales numbers\n",
    "pc_box = pd.DataFrame(df4.iloc[1,1:])\n",
    "pc_box.columns= ['PC']\n",
    "pc_box.reset_index()"
   ]
  },
  {
   "cell_type": "code",
   "execution_count": null,
   "metadata": {},
   "outputs": [],
   "source": [
    "# PC regional sales numbers  list\n",
    "pc_box_sales = pc_box['PC'].iloc[1:5].to_list()"
   ]
  },
  {
   "cell_type": "markdown",
   "metadata": {},
   "source": [
    "### PS4 Platform"
   ]
  },
  {
   "cell_type": "code",
   "execution_count": null,
   "metadata": {},
   "outputs": [],
   "source": [
    "# PS4 ratios of total sales\n",
    "ps4 = pd.DataFrame((df4.iloc[2,1:] / df4_sum.iloc[0, 1:]) * 100)\n",
    "ps4.columns = ['PS4']\n",
    "ps4.reset_index()"
   ]
  },
  {
   "cell_type": "code",
   "execution_count": null,
   "metadata": {},
   "outputs": [],
   "source": [
    "# PS4 ratios of total sales list\n",
    "ps4_sales = ps4['PS4'].iloc[1:5].to_list()"
   ]
  },
  {
   "cell_type": "code",
   "execution_count": null,
   "metadata": {},
   "outputs": [],
   "source": [
    "# PS4 regional sales numbers\n",
    "ps4_box = pd.DataFrame(df4.iloc[2,1:])\n",
    "ps4_box.columns = ['PS4']\n",
    "ps4_box.reset_index()"
   ]
  },
  {
   "cell_type": "code",
   "execution_count": null,
   "metadata": {},
   "outputs": [],
   "source": [
    "# PS4 regional sales numbers list\n",
    "ps4_box_sales = ps4_box['PS4'].iloc[1:5].to_list()"
   ]
  },
  {
   "cell_type": "markdown",
   "metadata": {},
   "source": [
    "### PSV Platform"
   ]
  },
  {
   "cell_type": "code",
   "execution_count": null,
   "metadata": {},
   "outputs": [],
   "source": [
    "# PSV ratios of total sales\n",
    "psv = pd.DataFrame((df4.iloc[3,1:] / df4_sum.iloc[0, 1:]) * 100)\n",
    "psv.columns = ['PSV']\n",
    "psv.reset_index()"
   ]
  },
  {
   "cell_type": "code",
   "execution_count": null,
   "metadata": {},
   "outputs": [],
   "source": [
    "# PSV ratios of sales list\n",
    "psv_sales = psv['PSV'].iloc[1:5].to_list()"
   ]
  },
  {
   "cell_type": "code",
   "execution_count": null,
   "metadata": {},
   "outputs": [],
   "source": [
    "# PSV sales numbers\n",
    "psv_box = pd.DataFrame(df4.iloc[3,1:])\n",
    "psv_box.columns = ['PSV']\n",
    "psv_box.reset_index()"
   ]
  },
  {
   "cell_type": "code",
   "execution_count": null,
   "metadata": {},
   "outputs": [],
   "source": [
    "# PSV sales numbers list\n",
    "psv_box_sales = psv_box['PSV'].iloc[1:5].to_list()"
   ]
  },
  {
   "cell_type": "markdown",
   "metadata": {},
   "source": [
    "### XONE Platform"
   ]
  },
  {
   "cell_type": "code",
   "execution_count": null,
   "metadata": {},
   "outputs": [],
   "source": [
    "# XONE ratios of total sales\n",
    "xone = pd.DataFrame((df4.iloc[4,1:] / df4_sum.iloc[0, 1:]) * 100)\n",
    "xone.columns = ['XONE']\n",
    "xone.reset_index()"
   ]
  },
  {
   "cell_type": "code",
   "execution_count": null,
   "metadata": {},
   "outputs": [],
   "source": [
    "# XONE ratios of sales list\n",
    "xone_sales = xone['XONE'].iloc[1:5].to_list()"
   ]
  },
  {
   "cell_type": "code",
   "execution_count": null,
   "metadata": {},
   "outputs": [],
   "source": [
    "# XONE regional sales\n",
    "xone_box = pd.DataFrame(df4.iloc[4,1:])\n",
    "xone_box.columns = ['XONE']\n",
    "xone_box.reset_index()"
   ]
  },
  {
   "cell_type": "code",
   "execution_count": null,
   "metadata": {},
   "outputs": [],
   "source": [
    "# XONE regional sales list\n",
    "xone_box_sales = xone_box['XONE'].iloc[1:5].to_list()"
   ]
  },
  {
   "cell_type": "markdown",
   "metadata": {},
   "source": [
    "### Overall Platform Results"
   ]
  },
  {
   "cell_type": "code",
   "execution_count": null,
   "metadata": {},
   "outputs": [],
   "source": [
    "x_data = ['3DS', 'PC', 'PS4', 'PSV', 'XONE']\n",
    "\n",
    "y_data = [ds_box_sales , pc_box_sales, ps4_box_sales, psv_box_sales, xone_box_sales]\n",
    "\n",
    "colors = ['rgba(93, 164, 214, 0.5)', 'rgba(255, 144, 14, 0.5)', 'rgba(44, 160, 101, 0.5)',\n",
    "          'rgba(255, 65, 54, 0.5)', 'rgba(207, 114, 255, 0.5)']\n",
    "\n",
    "fig = go.Figure()\n",
    "\n",
    "for xd, yd, cls in zip(x_data, y_data, colors):\n",
    "        fig.add_trace(go.Box(\n",
    "            y=yd,\n",
    "            name=xd,\n",
    "            jitter=0.5,\n",
    "            whiskerwidth=0.2,\n",
    "            fillcolor=cls,\n",
    "            marker_size=2,\n",
    "            line_width=1)\n",
    "        )\n",
    "\n",
    "fig.update_layout(\n",
    "    title='Platform Sales from 2013 to 2016',\n",
    "    yaxis=dict(\n",
    "        autorange=True,\n",
    "        showgrid=True,\n",
    "        zeroline=True,\n",
    "        dtick=10,\n",
    "        gridcolor='rgb(255, 255, 255)',\n",
    "        gridwidth=1,\n",
    "        zerolinecolor='rgb(255, 255, 255)',\n",
    "        zerolinewidth=2,\n",
    "    ),\n",
    "    margin=dict(\n",
    "        l=40,\n",
    "        r=30,\n",
    "        b=80,\n",
    "        t=100,\n",
    "    ),\n",
    "    paper_bgcolor='rgb(243, 243, 243)',\n",
    "    plot_bgcolor='rgb(243, 243, 243)',\n",
    "    showlegend=False\n",
    ")\n",
    "\n",
    "fig.show()"
   ]
  },
  {
   "cell_type": "markdown",
   "metadata": {},
   "source": [
    "### Conclusions"
   ]
  },
  {
   "attachments": {},
   "cell_type": "markdown",
   "metadata": {},
   "source": [
    "The box plots show the differences, and similarities in the total sales of each platform from 2013 to 2016. All platforms have a fairly broad spectrum, except for the PSV, which has a tight range. Statistical testing will determine if the mean sales of the regions are different from one another. "
   ]
  },
  {
   "cell_type": "markdown",
   "metadata": {},
   "source": [
    "## Market Share per Platform, by Region"
   ]
  },
  {
   "cell_type": "code",
   "execution_count": null,
   "metadata": {},
   "outputs": [],
   "source": [
    "# DS data merged with PC\n",
    "pt_1 = ds.T.reset_index().merge(pc.T.reset_index(), how='outer')"
   ]
  },
  {
   "cell_type": "code",
   "execution_count": null,
   "metadata": {},
   "outputs": [],
   "source": [
    "# Merge again with PS4\n",
    "pt_2 = pt_1.merge(ps4.T.reset_index(), how='outer')"
   ]
  },
  {
   "cell_type": "code",
   "execution_count": null,
   "metadata": {},
   "outputs": [],
   "source": [
    "# Merge again with PSV\n",
    "pt_3 = pt_2.merge(psv.T.reset_index(), how='outer')"
   ]
  },
  {
   "cell_type": "code",
   "execution_count": null,
   "metadata": {},
   "outputs": [],
   "source": [
    "# Platform Market share percentages \n",
    "pt_final = pt_3.merge(xone.T.reset_index(), how='outer')\n",
    "pt_final"
   ]
  },
  {
   "cell_type": "markdown",
   "metadata": {},
   "source": [
    "### Euorope"
   ]
  },
  {
   "cell_type": "code",
   "execution_count": null,
   "metadata": {},
   "outputs": [],
   "source": [
    "# platform market share, Europe\n",
    "px.pie(pt_final, values=pt_final['eu_sales'], names=['3DS', 'PC', 'PS4', 'PSV', 'XONE'], title='European Region Platform Market Share').show()"
   ]
  },
  {
   "cell_type": "markdown",
   "metadata": {},
   "source": [
    "### North America"
   ]
  },
  {
   "cell_type": "code",
   "execution_count": null,
   "metadata": {},
   "outputs": [],
   "source": [
    "# platform market share, North America\n",
    "px.pie(pt_final, values=pt_final['na_sales'], names=['3DS', 'PC', 'PS4', 'PSV', 'XONE'], title='North American Region Platform Market Share').show()"
   ]
  },
  {
   "cell_type": "markdown",
   "metadata": {},
   "source": [
    "### Japan"
   ]
  },
  {
   "cell_type": "code",
   "execution_count": null,
   "metadata": {},
   "outputs": [],
   "source": [
    "# platform market share, Japan\n",
    "px.pie(pt_final, values=pt_final['jp_sales'], names=['3DS', 'PC', 'PS4', 'PSV', 'XONE'], title='Japanese Region Platform Market Share').show()"
   ]
  },
  {
   "cell_type": "markdown",
   "metadata": {},
   "source": [
    "### Other"
   ]
  },
  {
   "cell_type": "code",
   "execution_count": null,
   "metadata": {},
   "outputs": [],
   "source": [
    "# platform market share, Other\n",
    "px.pie(pt_final, values=pt_final['other_sales'], names=['3DS', 'PC', 'PS4', 'PSV', 'XONE'], title='Other Region Platform Market Share').show()"
   ]
  },
  {
   "cell_type": "markdown",
   "metadata": {},
   "source": [
    "## Conclusions"
   ]
  },
  {
   "attachments": {},
   "cell_type": "markdown",
   "metadata": {},
   "source": [
    "The market share of each relevant platform, depends on the sales region. In the European region, a vast majority of games are sold for PC and PS4 platforms. In the North American region, market share is more or less evenly split among PC, PS4, XONE and 3DS platforms. In the Japanese region, the 3DS takes up 72.4% market share among the top 5 platforms. The other region sees about a 46% market share for the PS4, and then a 21% market share for PC, among the top platforms. "
   ]
  },
  {
   "cell_type": "markdown",
   "metadata": {},
   "source": [
    "## Statistical Testing of Mean Sales"
   ]
  },
  {
   "cell_type": "markdown",
   "metadata": {},
   "source": [
    "### Comparison of 3DS and PC"
   ]
  },
  {
   "cell_type": "markdown",
   "metadata": {},
   "source": [
    "#### The mean sales of 3DS and PC are the same ?"
   ]
  },
  {
   "cell_type": "markdown",
   "metadata": {},
   "source": [
    "    Null Hypothesis : The mean sales of 3DS and PC are the same"
   ]
  },
  {
   "cell_type": "code",
   "execution_count": null,
   "metadata": {},
   "outputs": [],
   "source": [
    "# Comparison of 3DS and PC\n",
    "\n",
    "#Null Hypothesis\n",
    "\n",
    "## The mean sales of 3DS and PC are the same\n",
    "\n",
    "\n",
    "alpha = 0.05\n",
    "\n",
    "results = st.ttest_ind(ds_box_sales, pc_box_sales)\n",
    "\n",
    "print('p-value: ', results.pvalue)\n",
    "\n",
    "if results.pvalue < alpha:\n",
    "    print(\"We reject the null hypothesis, the means are different\")\n",
    "else:\n",
    "    print(\"We can't reject the null hypothesis\") "
   ]
  },
  {
   "cell_type": "markdown",
   "metadata": {},
   "source": [
    "### Comparison of 3DS and PS4"
   ]
  },
  {
   "cell_type": "markdown",
   "metadata": {},
   "source": [
    "#### The mean sales of 3DS and PS4 are the same ?"
   ]
  },
  {
   "cell_type": "markdown",
   "metadata": {},
   "source": [
    "    Null Hypothesis : The mean sales of 3DS and PS4 are the same"
   ]
  },
  {
   "cell_type": "code",
   "execution_count": null,
   "metadata": {},
   "outputs": [],
   "source": [
    "# Comparison of 3DS and PS4\n",
    "\n",
    "#Null Hypothesis\n",
    "\n",
    "## The mean sales of 3DS and PS4 are the same\n",
    "\n",
    "\n",
    "alpha = 0.05\n",
    "\n",
    "results = st.ttest_ind(ds_box_sales, ps4_box_sales)\n",
    "\n",
    "print('p-value: ', results.pvalue)\n",
    "\n",
    "if results.pvalue < alpha:\n",
    "    print(\"We reject the null hypothesis, the means are different\")\n",
    "else:\n",
    "    print(\"We can't reject the null hypothesis\") "
   ]
  },
  {
   "cell_type": "markdown",
   "metadata": {},
   "source": [
    "### Comparison of 3DS and PSV"
   ]
  },
  {
   "cell_type": "markdown",
   "metadata": {},
   "source": [
    "#### The mean sales of 3DS and PSV are the same ? "
   ]
  },
  {
   "cell_type": "markdown",
   "metadata": {},
   "source": [
    "    Null Hypothesis : The mean sales of 3DS and PSV are the same"
   ]
  },
  {
   "cell_type": "code",
   "execution_count": null,
   "metadata": {},
   "outputs": [],
   "source": [
    "# Comparison of 3DS and PSV\n",
    "\n",
    "#Null Hypothesis\n",
    "\n",
    "## The mean sales of 3DS and PSV are the same\n",
    "\n",
    "\n",
    "alpha = 0.05\n",
    "\n",
    "results = st.ttest_ind(ds_box_sales, psv_box_sales)\n",
    "\n",
    "print('p-value: ', results.pvalue)\n",
    "\n",
    "if results.pvalue < alpha:\n",
    "    print(\"We reject the null hypothesis, the means are different\")\n",
    "else:\n",
    "    print(\"We can't reject the null hypothesis\") "
   ]
  },
  {
   "cell_type": "markdown",
   "metadata": {},
   "source": [
    "### Comparison of 3DS and XONE"
   ]
  },
  {
   "cell_type": "markdown",
   "metadata": {},
   "source": [
    "#### The mean sales of 3DS and XONE are the same ?"
   ]
  },
  {
   "cell_type": "markdown",
   "metadata": {},
   "source": [
    "    Null Hypothesis : The mean sales of 3DS and XONE are the same"
   ]
  },
  {
   "cell_type": "code",
   "execution_count": null,
   "metadata": {},
   "outputs": [],
   "source": [
    "# Comparison of 3DS and XONE\n",
    "\n",
    "#Null Hypothesis\n",
    "\n",
    "## The mean sales of 3DS and XONE are the same\n",
    "\n",
    "\n",
    "alpha = 0.05\n",
    "\n",
    "results = st.ttest_ind(ds_box_sales, xone_box_sales)\n",
    "\n",
    "print('p-value: ', results.pvalue)\n",
    "\n",
    "if results.pvalue < alpha:\n",
    "    print(\"We reject the null hypothesis, the means are different\")\n",
    "else:\n",
    "    print(\"We can't reject the null hypothesis\") "
   ]
  },
  {
   "cell_type": "markdown",
   "metadata": {},
   "source": [
    "### Comparison of PC and PS4"
   ]
  },
  {
   "cell_type": "markdown",
   "metadata": {},
   "source": [
    "#### The mean sales of PC and PS4 are the same ?"
   ]
  },
  {
   "cell_type": "markdown",
   "metadata": {},
   "source": [
    "    Null Hypothesis : The mean sales of PC and PS4 are the same"
   ]
  },
  {
   "cell_type": "code",
   "execution_count": null,
   "metadata": {},
   "outputs": [],
   "source": [
    "# Comparison of PC and PS4\n",
    "\n",
    "#Null Hypothesis\n",
    "\n",
    "## The mean sales of PC and PS4 are the same\n",
    "\n",
    "\n",
    "alpha = 0.05\n",
    "\n",
    "results = st.ttest_ind(pc_box_sales, ps4_box_sales)\n",
    "\n",
    "print('p-value: ', results.pvalue)\n",
    "\n",
    "if results.pvalue < alpha:\n",
    "    print(\"We reject the null hypothesis, the means are different\")\n",
    "else:\n",
    "    print(\"We can't reject the null hypothesis\") "
   ]
  },
  {
   "cell_type": "markdown",
   "metadata": {},
   "source": [
    "### Comparison of PC and PSV"
   ]
  },
  {
   "cell_type": "markdown",
   "metadata": {},
   "source": [
    "#### The mean sales of PC and PSV are the same ?"
   ]
  },
  {
   "cell_type": "markdown",
   "metadata": {},
   "source": [
    "    Null Hypothesis : The mean sales of PC and PSV are the same"
   ]
  },
  {
   "cell_type": "code",
   "execution_count": null,
   "metadata": {},
   "outputs": [],
   "source": [
    "# Comparison of PC and PSV\n",
    "\n",
    "#Null Hypothesis\n",
    "\n",
    "## The mean sales of PC and PSV are the same\n",
    "\n",
    "\n",
    "alpha = 0.05\n",
    "\n",
    "results = st.ttest_ind(pc_box_sales, psv_box_sales)\n",
    "\n",
    "print('p-value: ', results.pvalue)\n",
    "\n",
    "if results.pvalue < alpha:\n",
    "    print(\"We reject the null hypothesis, the means are different\")\n",
    "else:\n",
    "    print(\"We can't reject the null hypothesis\") "
   ]
  },
  {
   "cell_type": "markdown",
   "metadata": {},
   "source": [
    "### Comparison of PC and XONE"
   ]
  },
  {
   "cell_type": "markdown",
   "metadata": {},
   "source": [
    "#### The mean sales of PC and XONE are the same ?"
   ]
  },
  {
   "cell_type": "markdown",
   "metadata": {},
   "source": [
    "    Null Hypothesis : The mean sales of PC and XONE are the same"
   ]
  },
  {
   "cell_type": "code",
   "execution_count": null,
   "metadata": {},
   "outputs": [],
   "source": [
    "# Comparison of PC and XONE\n",
    "\n",
    "#Null Hypothesis\n",
    "\n",
    "## The mean sales of PC and XONE are the same\n",
    "\n",
    "\n",
    "alpha = 0.05\n",
    "\n",
    "results = st.ttest_ind(pc_box_sales, xone_box_sales)\n",
    "\n",
    "print('p-value: ', results.pvalue)\n",
    "\n",
    "if results.pvalue < alpha:\n",
    "    print(\"We reject the null hypothesis, the means are different\")\n",
    "else:\n",
    "    print(\"We can't reject the null hypothesis\") "
   ]
  },
  {
   "cell_type": "markdown",
   "metadata": {},
   "source": [
    "### Comparison of PS4 and PSV"
   ]
  },
  {
   "cell_type": "markdown",
   "metadata": {},
   "source": [
    "#### The mean sales of PS4 and PSV are the same ?"
   ]
  },
  {
   "cell_type": "markdown",
   "metadata": {},
   "source": [
    "    Null Hypothesis : The mean sales of PS4 and PSV are the same"
   ]
  },
  {
   "cell_type": "code",
   "execution_count": null,
   "metadata": {},
   "outputs": [],
   "source": [
    "# Comparison of PS4 and PSV\n",
    "\n",
    "#Null Hypothesis\n",
    "\n",
    "## The mean sales of PS4 and PSV are the same\n",
    "\n",
    "\n",
    "alpha = 0.05\n",
    "\n",
    "results = st.ttest_ind(ps4_box_sales, psv_box_sales)\n",
    "\n",
    "print('p-value: ', results.pvalue)\n",
    "\n",
    "if results.pvalue < alpha:\n",
    "    print(\"We reject the null hypothesis, the means are different\")\n",
    "else:\n",
    "    print(\"We can't reject the null hypothesis\") "
   ]
  },
  {
   "cell_type": "markdown",
   "metadata": {},
   "source": [
    "### Comparison of PS4 and XONE"
   ]
  },
  {
   "cell_type": "markdown",
   "metadata": {},
   "source": [
    "#### The mean sales of PS4 and XONE are the same ?"
   ]
  },
  {
   "cell_type": "markdown",
   "metadata": {},
   "source": [
    "    Null Hypothesis : The mean sales of PS4 and XONE are the same"
   ]
  },
  {
   "cell_type": "code",
   "execution_count": null,
   "metadata": {},
   "outputs": [],
   "source": [
    "# Comparison of PS4 and XONE\n",
    "\n",
    "#Null Hypothesis\n",
    "\n",
    "## The mean sales of PS4 and XONE are the same\n",
    "\n",
    "\n",
    "alpha = 0.05\n",
    "\n",
    "results = st.ttest_ind(ps4_box_sales, xone_box_sales)\n",
    "\n",
    "print('p-value: ', results.pvalue)\n",
    "\n",
    "if results.pvalue < alpha:\n",
    "    print(\"We reject the null hypothesis, the means are different\")\n",
    "else:\n",
    "    print(\"We can't reject the null hypothesis\") "
   ]
  },
  {
   "cell_type": "markdown",
   "metadata": {},
   "source": [
    "### Comparison of PSV and XONE"
   ]
  },
  {
   "cell_type": "markdown",
   "metadata": {},
   "source": [
    "#### The mean sales of PSV and XONE are the same ?"
   ]
  },
  {
   "cell_type": "markdown",
   "metadata": {},
   "source": [
    "    Null Hypothesis : The mean sales of PSV and XONE are the same"
   ]
  },
  {
   "cell_type": "code",
   "execution_count": null,
   "metadata": {},
   "outputs": [],
   "source": [
    "# Comparison of PSV and XONE\n",
    "\n",
    "#Null Hypothesis\n",
    "\n",
    "## The mean sales of PSV and XONE are the same\n",
    "\n",
    "\n",
    "alpha = 0.05\n",
    "\n",
    "results = st.ttest_ind(psv_box_sales, xone_box_sales)\n",
    "\n",
    "print('p-value: ', results.pvalue)\n",
    "\n",
    "if results.pvalue < alpha:\n",
    "    print(\"We reject the null hypothesis, the means are different\")\n",
    "else:\n",
    "    print(\"We can't reject the null hypothesis\") "
   ]
  },
  {
   "cell_type": "markdown",
   "metadata": {},
   "source": [
    "## Conclusions"
   ]
  },
  {
   "attachments": {},
   "cell_type": "markdown",
   "metadata": {},
   "source": [
    "Using statistical t test of the mean sales of the different platforms, we do not see many differences. The only difference we can attest to with more than a 95% degree of certainty is between the 3DS and the PSV. We fail to reject the null hypotheses that the mean sales for the other platforms are different from each other. We used the standard alpha of 0.05, so that we were at least 95% sure of our results. We chose the null hypotheses to be the mean sales of the corresponding platforms were the same. The lack of difference seen could be attributed to the variance, and hence, the range of the sales. "
   ]
  },
  {
   "cell_type": "markdown",
   "metadata": {},
   "source": [
    "## Differences in Sales by Region"
   ]
  },
  {
   "cell_type": "code",
   "execution_count": null,
   "metadata": {},
   "outputs": [],
   "source": [
    "# Filtering data frame for most relevant platforms and key years 2013-2016\n",
    "df3 = df[df['platform'].isin(most_relevant_platforms_list) & df['year_of_release'].isin(key_years)]\n",
    "df3.head()"
   ]
  },
  {
   "cell_type": "code",
   "execution_count": null,
   "metadata": {},
   "outputs": [],
   "source": [
    "# Filter by EU region sales\n",
    "df_eu = df4[['platform', 'eu_sales']]"
   ]
  },
  {
   "cell_type": "code",
   "execution_count": null,
   "metadata": {},
   "outputs": [],
   "source": [
    "# Convert EU data to list\n",
    "df_eu_sales = df_eu['eu_sales'].to_list()"
   ]
  },
  {
   "cell_type": "code",
   "execution_count": null,
   "metadata": {},
   "outputs": [],
   "source": [
    "# Filter by JP region sales\n",
    "df_jp = df4[['platform', 'jp_sales']]\n"
   ]
  },
  {
   "cell_type": "code",
   "execution_count": null,
   "metadata": {},
   "outputs": [],
   "source": [
    "# Convert JP data to list\n",
    "df_jp_sales = df_jp['jp_sales'].to_list()"
   ]
  },
  {
   "cell_type": "code",
   "execution_count": null,
   "metadata": {},
   "outputs": [],
   "source": [
    "# Filter for NA region sales\n",
    "df_na = df4[['platform', 'na_sales']]"
   ]
  },
  {
   "cell_type": "code",
   "execution_count": null,
   "metadata": {},
   "outputs": [],
   "source": [
    "# Convert NA sales to list\n",
    "df_na_sales = df_na['na_sales'].to_list()"
   ]
  },
  {
   "cell_type": "code",
   "execution_count": null,
   "metadata": {},
   "outputs": [],
   "source": [
    "# Filter for Other region sales\n",
    "df_other = df4[['platform', 'other_sales']]"
   ]
  },
  {
   "cell_type": "code",
   "execution_count": null,
   "metadata": {},
   "outputs": [],
   "source": [
    "# Convert other region sales to list\n",
    "df_other_sales = df_other['other_sales'].to_list()"
   ]
  },
  {
   "cell_type": "markdown",
   "metadata": {},
   "source": [
    "### Overal Results"
   ]
  },
  {
   "cell_type": "code",
   "execution_count": null,
   "metadata": {},
   "outputs": [],
   "source": [
    "x_data = ['Europe', 'Japan', 'North America', 'Other']\n",
    "\n",
    "y_data = [df_eu_sales , df_jp_sales, df_na_sales, df_other_sales]\n",
    "\n",
    "colors = ['rgba(44, 160, 101, 0.5)',\n",
    "          'rgba(255, 65, 54, 0.5)', 'rgba(207, 114, 255, 0.5)', 'rgba(127, 96, 0, 0.5)']\n",
    "\n",
    "fig = go.Figure()\n",
    "\n",
    "for xd, yd, cls in zip(x_data, y_data, colors):\n",
    "        fig.add_trace(go.Box(\n",
    "            y=yd,\n",
    "            name=xd,\n",
    "            jitter=0.5,\n",
    "            whiskerwidth=0.2,\n",
    "            fillcolor=cls,\n",
    "            marker_size=2,\n",
    "            line_width=1)\n",
    "        )\n",
    "\n",
    "fig.update_layout(\n",
    "    title='Regional Sales from 2013 to 2016',\n",
    "    yaxis=dict(\n",
    "        autorange=True,\n",
    "        showgrid=True,\n",
    "        zeroline=True,\n",
    "        dtick=10,\n",
    "        gridcolor='rgb(255, 255, 255)',\n",
    "        gridwidth=1,\n",
    "        zerolinecolor='rgb(255, 255, 255)',\n",
    "        zerolinewidth=2,\n",
    "    ),\n",
    "    margin=dict(\n",
    "        l=40,\n",
    "        r=30,\n",
    "        b=80,\n",
    "        t=100,\n",
    "    ),\n",
    "    paper_bgcolor='rgb(243, 243, 243)',\n",
    "    plot_bgcolor='rgb(243, 243, 243)',\n",
    "    showlegend=False\n",
    ")\n",
    "\n",
    "fig.show()"
   ]
  },
  {
   "cell_type": "markdown",
   "metadata": {},
   "source": [
    "## Conclusions"
   ]
  },
  {
   "attachments": {},
   "cell_type": "markdown",
   "metadata": {},
   "source": [
    "We see the data for the regional sales from 2013 to 2016. It is difficult to predict differences, so we would need to conduct statistical testing of means. "
   ]
  },
  {
   "cell_type": "markdown",
   "metadata": {},
   "source": [
    "## Statistical Testing of Sales Means by Region"
   ]
  },
  {
   "cell_type": "markdown",
   "metadata": {},
   "source": [
    "### Europe and Japan"
   ]
  },
  {
   "cell_type": "markdown",
   "metadata": {},
   "source": [
    "    Null Hypothesis : The mean sales of EU and JP are the same"
   ]
  },
  {
   "cell_type": "code",
   "execution_count": null,
   "metadata": {},
   "outputs": [],
   "source": [
    "# Comparison of EU and JP\n",
    "\n",
    "#Null Hypothesis\n",
    "\n",
    "## The mean sales of EU and JP are the same\n",
    "\n",
    "\n",
    "alpha = 0.05\n",
    "\n",
    "results = st.ttest_ind(df_eu_sales, df_jp_sales)\n",
    "\n",
    "print('p-value: ', results.pvalue)\n",
    "\n",
    "if results.pvalue < alpha:\n",
    "    print(\"We reject the null hypothesis, the means are different\")\n",
    "else:\n",
    "    print(\"We can't reject the null hypothesis\") "
   ]
  },
  {
   "cell_type": "markdown",
   "metadata": {},
   "source": [
    "### Europe and North America"
   ]
  },
  {
   "cell_type": "markdown",
   "metadata": {},
   "source": [
    "    Null Hypothesis : The mean sales of EU and NA are the same"
   ]
  },
  {
   "cell_type": "code",
   "execution_count": null,
   "metadata": {},
   "outputs": [],
   "source": [
    "# Comparison of EU and NA\n",
    "\n",
    "#Null Hypothesis\n",
    "\n",
    "## The mean sales of EU and NA are the same\n",
    "\n",
    "\n",
    "alpha = 0.05\n",
    "\n",
    "results = st.ttest_ind(df_eu_sales, df_na_sales)\n",
    "\n",
    "print('p-value: ', results.pvalue)\n",
    "\n",
    "if results.pvalue < alpha:\n",
    "    print(\"We reject the null hypothesis, the means are different\")\n",
    "else:\n",
    "    print(\"We can't reject the null hypothesis\") "
   ]
  },
  {
   "cell_type": "markdown",
   "metadata": {},
   "source": [
    "### Europe and Other"
   ]
  },
  {
   "cell_type": "markdown",
   "metadata": {},
   "source": [
    "    Null Hypothesis : The mean sales of EU and Other are the same"
   ]
  },
  {
   "cell_type": "code",
   "execution_count": null,
   "metadata": {},
   "outputs": [],
   "source": [
    "# Comparison of EU and Other\n",
    "\n",
    "#Null Hypothesis\n",
    "\n",
    "## The mean sales of EU and Other are the same\n",
    "\n",
    "\n",
    "alpha = 0.05\n",
    "\n",
    "results = st.ttest_ind(df_eu_sales, df_other_sales)\n",
    "\n",
    "print('p-value: ', results.pvalue)\n",
    "\n",
    "if results.pvalue < alpha:\n",
    "    print(\"We reject the null hypothesis, the means are different\")\n",
    "else:\n",
    "    print(\"We can't reject the null hypothesis\") "
   ]
  },
  {
   "cell_type": "markdown",
   "metadata": {},
   "source": [
    "### Japan and North America"
   ]
  },
  {
   "cell_type": "markdown",
   "metadata": {},
   "source": [
    "    Null Hypothesis : The mean sales of JP and NA are the same"
   ]
  },
  {
   "cell_type": "code",
   "execution_count": null,
   "metadata": {},
   "outputs": [],
   "source": [
    "# Comparison of JP and NA\n",
    "\n",
    "#Null Hypothesis\n",
    "\n",
    "## The mean sales of JP and NA are the same\n",
    "\n",
    "\n",
    "alpha = 0.05\n",
    "\n",
    "results = st.ttest_ind(df_jp_sales, df_na_sales)\n",
    "\n",
    "print('p-value: ', results.pvalue)\n",
    "\n",
    "if results.pvalue < alpha:\n",
    "    print(\"We reject the null hypothesis, the means are different\")\n",
    "else:\n",
    "    print(\"We can't reject the null hypothesis\") "
   ]
  },
  {
   "cell_type": "markdown",
   "metadata": {},
   "source": [
    "### Japan and Other"
   ]
  },
  {
   "cell_type": "markdown",
   "metadata": {},
   "source": [
    "    Null Hypothesis : The mean sales of JP and NA are the same"
   ]
  },
  {
   "cell_type": "code",
   "execution_count": null,
   "metadata": {},
   "outputs": [],
   "source": [
    "# Comparison of JP and NA\n",
    "\n",
    "#Null Hypothesis\n",
    "\n",
    "## The mean sales of JP and NA are the same\n",
    "\n",
    "\n",
    "alpha = 0.05\n",
    "\n",
    "results = st.ttest_ind(df_jp_sales, df_na_sales)\n",
    "\n",
    "print('p-value: ', results.pvalue)\n",
    "\n",
    "if results.pvalue < alpha:\n",
    "    print(\"We reject the null hypothesis, the means are different\")\n",
    "else:\n",
    "    print(\"We can't reject the null hypothesis\") "
   ]
  },
  {
   "cell_type": "markdown",
   "metadata": {},
   "source": [
    "### North America and Other"
   ]
  },
  {
   "cell_type": "markdown",
   "metadata": {},
   "source": [
    "    Null Hypothesis : The mean sales of NA and Other are the same"
   ]
  },
  {
   "cell_type": "code",
   "execution_count": null,
   "metadata": {},
   "outputs": [],
   "source": [
    "# Comparison of NA and Other\n",
    "\n",
    "#Null Hypothesis\n",
    "\n",
    "## The mean sales of NA and Other are the same\n",
    "\n",
    "\n",
    "alpha = 0.05\n",
    "\n",
    "results = st.ttest_ind(df_na_sales, df_other_sales)\n",
    "\n",
    "print('p-value: ', results.pvalue)\n",
    "\n",
    "if results.pvalue < alpha:\n",
    "    print(\"We reject the null hypothesis, the means are different\")\n",
    "else:\n",
    "    print(\"We can't reject the null hypothesis\") "
   ]
  },
  {
   "cell_type": "markdown",
   "metadata": {},
   "source": [
    "## Conclusions"
   ]
  },
  {
   "attachments": {},
   "cell_type": "markdown",
   "metadata": {},
   "source": [
    "We see that most of the mean regional sales are not different from each other. The one exception lies with the mean sales, of North American and Other. We chose our null hypotheses to be similarities in mean sales, and our alpha value to be 0.05. This alpha allows us to be at least 95% certain of our results. "
   ]
  },
  {
   "cell_type": "markdown",
   "metadata": {},
   "source": [
    "## User and Professional Reviews Effect on PS4 Sales"
   ]
  },
  {
   "cell_type": "code",
   "execution_count": null,
   "metadata": {},
   "outputs": [],
   "source": [
    "# Creating a filter\n",
    "ps4_list = ['PS4']"
   ]
  },
  {
   "cell_type": "code",
   "execution_count": null,
   "metadata": {},
   "outputs": [],
   "source": [
    "# filtering data frame for PS4 \n",
    "df_ps4 = df3[df3['platform'].isin(ps4_list)]"
   ]
  },
  {
   "cell_type": "code",
   "execution_count": null,
   "metadata": {},
   "outputs": [],
   "source": [
    "# Sorting the resulting data set by scores and total sales\n",
    "ps4_score_sales = df_ps4[['user_score', 'critic_score','average_score', 'total_sales']].sort_values(by='total_sales', ascending=False)"
   ]
  },
  {
   "cell_type": "code",
   "execution_count": null,
   "metadata": {},
   "outputs": [],
   "source": [
    "# correlation between scores and total sales\n",
    "ps4_score_sales.corr()"
   ]
  },
  {
   "cell_type": "code",
   "execution_count": null,
   "metadata": {},
   "outputs": [],
   "source": [
    "# sales based on review scores\n",
    "px.scatter(ps4_score_sales, x=['user_score', 'critic_score', 'average_score'], \n",
    "y='total_sales', trendline='ols', trendline_color_override='black',\n",
    "title='PS4 Total Sales Based on Review Scores').show()"
   ]
  },
  {
   "cell_type": "markdown",
   "metadata": {},
   "source": [
    "## Conclusions"
   ]
  },
  {
   "attachments": {},
   "cell_type": "markdown",
   "metadata": {},
   "source": [
    "We see a very weak correlation between reviews and sales, when considering user and critic reviews. Critic scores show a stronger relationship with sales, when compared to user scores, yet that relationship is fairly weak. Therefore, scores are not a strong predictor of total sales. "
   ]
  },
  {
   "cell_type": "markdown",
   "metadata": {},
   "source": [
    "## Which platforms are leading in sales from 2013 to 2016?"
   ]
  },
  {
   "cell_type": "markdown",
   "metadata": {},
   "source": [
    "### Top Platform Sales"
   ]
  },
  {
   "cell_type": "code",
   "execution_count": null,
   "metadata": {},
   "outputs": [],
   "source": [
    "# Filter by 2013 to 2016\n",
    "df5 = df[df['year_of_release'].isin(key_years)]"
   ]
  },
  {
   "cell_type": "code",
   "execution_count": null,
   "metadata": {},
   "outputs": [],
   "source": [
    "# group the platforms by sales\n",
    "df6 = df5.groupby('platform')['eu_sales', 'jp_sales', 'na_sales', 'other_sales', 'average_sales', 'total_sales'].sum()"
   ]
  },
  {
   "cell_type": "code",
   "execution_count": null,
   "metadata": {},
   "outputs": [],
   "source": [
    "# Sort platforms by highest total sales\n",
    "df6.sort_values(by='total_sales',ascending=False).head(10)"
   ]
  },
  {
   "attachments": {},
   "cell_type": "markdown",
   "metadata": {},
   "source": [
    "The PS4 leads in sales for the relevant time period. Third, is the PS3, which appears to be shrinking as PS4 sales increase. This is because the PS4 is the updated version of the PS3, so they compete in sales. The sales trends suggest customers are deciding to upgrade their platform. The next platform on the list is the XONE, which is the updated version of the X360. We see similar trends with  playstation. Fourth on the total sales ranking ins the 3DS, and 6th is the WIIU. "
   ]
  },
  {
   "cell_type": "markdown",
   "metadata": {},
   "source": [
    "## Comparing Game Sales on Various Platforms"
   ]
  },
  {
   "cell_type": "code",
   "execution_count": null,
   "metadata": {},
   "outputs": [],
   "source": [
    "# Top games dataset\n",
    "top_five_games"
   ]
  },
  {
   "attachments": {},
   "cell_type": "markdown",
   "metadata": {},
   "source": [
    "Wii sports and mario kart are only on the Wii platform. Super smash bros and Tetris may not be on cross platforms either."
   ]
  },
  {
   "cell_type": "code",
   "execution_count": null,
   "metadata": {},
   "outputs": [],
   "source": []
  },
  {
   "cell_type": "code",
   "execution_count": null,
   "metadata": {},
   "outputs": [],
   "source": [
    "# Top 20 Games by total sales from 2013-2016\n",
    "df5.pivot_table(index='name', values=['total_sales', 'average_sales'], \n",
    "aggfunc='sum').reset_index().sort_values(by='total_sales', ascending=False).head(20)"
   ]
  },
  {
   "attachments": {},
   "cell_type": "markdown",
   "metadata": {},
   "source": [
    "Looking at Grand Theft Auto V, Call of Duty: Ghost, Minecraft, and FIFA 15, as they appear on a number of platforms. Nevertheless, many games found on Nintendo platforms are not present on the other console platforms. "
   ]
  },
  {
   "cell_type": "code",
   "execution_count": null,
   "metadata": {},
   "outputs": [],
   "source": [
    "# Pivot table of games and their platform, aggregated by total sales\n",
    "df7 = df5.pivot_table(index=['name', 'platform'], values='total_sales', aggfunc='sum').reset_index()"
   ]
  },
  {
   "cell_type": "code",
   "execution_count": null,
   "metadata": {},
   "outputs": [],
   "source": [
    "# Creating filters\n",
    "cross_games = ('grand theft auto v', 'call of duty: ghosts', 'minecraft', 'fifa 15')\n",
    "cross_platforms = ('PS4', 'XONE', 'WIIU', 'PC', '3DS')"
   ]
  },
  {
   "cell_type": "code",
   "execution_count": null,
   "metadata": {},
   "outputs": [],
   "source": [
    "# Applying filter to our data set\n",
    "df_cross = df7[df7['name'].isin(cross_games) & df7['platform'].isin(cross_platforms)]"
   ]
  },
  {
   "cell_type": "code",
   "execution_count": null,
   "metadata": {},
   "outputs": [],
   "source": [
    "# Seeing which platforms have the most games in our selection\n",
    "df7[df7['platform'].isin(cross_platforms)].sort_values(by=['name', 'platform']).value_counts(subset='platform')"
   ]
  },
  {
   "cell_type": "code",
   "execution_count": null,
   "metadata": {},
   "outputs": [],
   "source": [
    "# Making a COD data set\n",
    "cod = df_cross[df_cross['name']=='call of duty: ghosts']"
   ]
  },
  {
   "cell_type": "code",
   "execution_count": null,
   "metadata": {},
   "outputs": [],
   "source": [
    "#making a GTA data set\n",
    "gta = df_cross[df_cross['name']=='grand theft auto v']"
   ]
  },
  {
   "cell_type": "code",
   "execution_count": null,
   "metadata": {},
   "outputs": [],
   "source": [
    "px.bar(cod, x='platform', y='total_sales', color='platform', title='COD: Ghost Platform Sales').show()"
   ]
  },
  {
   "cell_type": "code",
   "execution_count": null,
   "metadata": {},
   "outputs": [],
   "source": [
    "# GTA V sales\n",
    "px.bar(gta, x='platform', y='total_sales', color='platform', title='GTA V Platform Sales').show()"
   ]
  },
  {
   "attachments": {},
   "cell_type": "markdown",
   "metadata": {},
   "source": [
    "The data shows that very few games are sold on multiple platforms, and even less sold on WIIU and 3DS, with other platforms. This suggests the WIIU and 3DS ecosystems are mostly closed off to the other platforms, as 3DS has the second highest amount of games, yet we do not see those games on other platforms. We do see cross platform games among PC, PS4, and XONE consoles. Where games appear cross platform on PS4, PC, and XONE, we see PS4 games sales dominate. This is further demonstrated by the PS4 leading in the number of different games sold. Sales are then second most popular on the XONE platform. We see this trend with Call of Duty: Ghosts, and Grand Theft Auto V, two of the most popular platform games. "
   ]
  },
  {
   "cell_type": "markdown",
   "metadata": {},
   "source": [
    "## General Distribution of Games by Genre and Rating"
   ]
  },
  {
   "cell_type": "markdown",
   "metadata": {},
   "source": [
    "### Genre"
   ]
  },
  {
   "cell_type": "code",
   "execution_count": null,
   "metadata": {},
   "outputs": [],
   "source": [
    "# Sorting data by genre\n",
    "genres = df5.groupby('genre')['total_sales'].sum().sort_values(ascending=False).reset_index()\n"
   ]
  },
  {
   "cell_type": "code",
   "execution_count": null,
   "metadata": {},
   "outputs": [],
   "source": [
    "# sales by genre\n",
    "px.bar(genres, x='genre', y='total_sales', color='genre', title='Total Sales by Genre 2013-216').show()"
   ]
  },
  {
   "cell_type": "markdown",
   "metadata": {},
   "source": [
    "### Rating"
   ]
  },
  {
   "cell_type": "code",
   "execution_count": null,
   "metadata": {},
   "outputs": [],
   "source": [
    "# creating a rating pivot table \n",
    "df_rating = df5.pivot_table(index=['name', 'platform', 'rating'], values='total_sales', aggfunc='sum').reset_index()"
   ]
  },
  {
   "cell_type": "code",
   "execution_count": null,
   "metadata": {},
   "outputs": [],
   "source": [
    "# Indexing for the total sales based on rating\n",
    "df_rating_sales = df_rating.groupby('rating')['total_sales'].sum().sort_values(ascending=False).reset_index()\n"
   ]
  },
  {
   "cell_type": "code",
   "execution_count": null,
   "metadata": {},
   "outputs": [],
   "source": [
    "# game rating sales\n",
    "px.bar(df_rating_sales, x='rating', y='total_sales', color='rating', title='Game Rating Sales 2013-2016').show()"
   ]
  },
  {
   "cell_type": "markdown",
   "metadata": {},
   "source": [
    "### Conclusions"
   ]
  },
  {
   "attachments": {},
   "cell_type": "markdown",
   "metadata": {},
   "source": [
    "Action games are the most profitable genre, followed by shooter and sports games. The genres with lower sales may have a smaller audience, or are geared for a subset of customers, such as children. We can see when evaluating sales based on rating, mature games sell more. A logical assumption would be that action and shooter games are for mature audiences. "
   ]
  },
  {
   "cell_type": "markdown",
   "metadata": {},
   "source": [
    "## Top Platforms Per Region"
   ]
  },
  {
   "cell_type": "code",
   "execution_count": null,
   "metadata": {},
   "outputs": [],
   "source": [
    "# Filtering dataframe for key years 2013 to 2016\n",
    "df8 = df[df['year_of_release'].isin(key_years)]"
   ]
  },
  {
   "cell_type": "code",
   "execution_count": null,
   "metadata": {},
   "outputs": [],
   "source": [
    "# grouping result by platform, then looking at sales data\n",
    "df9 = df8.groupby('platform')[['total_sales','eu_sales', 'jp_sales', 'na_sales', 'other_sales']].sum().reset_index()\n"
   ]
  },
  {
   "cell_type": "code",
   "execution_count": null,
   "metadata": {},
   "outputs": [],
   "source": [
    "# platfrom global market share\n",
    "px.pie(df9, values='total_sales', names='platform', title='Global Market Share by Platform').show()"
   ]
  },
  {
   "cell_type": "markdown",
   "metadata": {},
   "source": [
    "### European Region Platform Market Shares"
   ]
  },
  {
   "cell_type": "code",
   "execution_count": null,
   "metadata": {},
   "outputs": [],
   "source": [
    "# European top platforms\n",
    "df_top_eu = df9.sort_values(by='eu_sales', ascending=False).head()\n",
    "df_top_eu = df_top_eu[['platform','eu_sales']].reset_index()"
   ]
  },
  {
   "cell_type": "code",
   "execution_count": null,
   "metadata": {},
   "outputs": [],
   "source": [
    "# Cum sum of sales in europe\n",
    "df_top_eu_sum =df_top_eu.cumsum()\n",
    "df_top_eu_sum = df_top_eu_sum[4:]\n",
    "df_top_eu_sum = df_top_eu_sum['eu_sales'].to_list()"
   ]
  },
  {
   "cell_type": "code",
   "execution_count": null,
   "metadata": {},
   "outputs": [],
   "source": [
    "# multiply market share by 100\n",
    "df_top_eu['market_share']= (df_top_eu['eu_sales'] / df_top_eu_sum) *100"
   ]
  },
  {
   "cell_type": "code",
   "execution_count": null,
   "metadata": {},
   "outputs": [],
   "source": [
    "# european market share\n",
    "px.pie(df_top_eu, values='market_share', names='platform', title='European Region Platform Market Shares').show()"
   ]
  },
  {
   "cell_type": "markdown",
   "metadata": {},
   "source": [
    "### Japanese Region Platform Market Shares"
   ]
  },
  {
   "cell_type": "code",
   "execution_count": null,
   "metadata": {},
   "outputs": [],
   "source": [
    "# top japanese platforms\n",
    "df_top_jp = df9.sort_values(by='jp_sales', ascending=False).head()\n",
    "df_top_jp = df_top_jp[['platform','jp_sales']].reset_index()\n"
   ]
  },
  {
   "cell_type": "code",
   "execution_count": null,
   "metadata": {},
   "outputs": [],
   "source": [
    "# Cum sum of sales in japan\n",
    "df_top_jp_sum =df_top_jp.cumsum()\n",
    "df_top_jp_sum = df_top_jp_sum[4:]\n",
    "df_top_jp_sum = df_top_jp_sum['jp_sales'].to_list()"
   ]
  },
  {
   "cell_type": "code",
   "execution_count": null,
   "metadata": {},
   "outputs": [],
   "source": [
    "# market share percentage\n",
    "df_top_jp['market_share']= (df_top_jp['jp_sales'] / df_top_jp_sum) *100"
   ]
  },
  {
   "cell_type": "code",
   "execution_count": null,
   "metadata": {},
   "outputs": [],
   "source": [
    "# Japan platform market share\n",
    "px.pie(df_top_jp, values='market_share', names='platform', title='Japanese Region Platform Market Shares').show()"
   ]
  },
  {
   "cell_type": "markdown",
   "metadata": {},
   "source": [
    "### North American Region Platform Market Shares"
   ]
  },
  {
   "cell_type": "code",
   "execution_count": null,
   "metadata": {},
   "outputs": [],
   "source": [
    "# Top north american platforms\n",
    "df_top_na = df9.sort_values(by='na_sales', ascending=False).head()\n",
    "df_top_na = df_top_na[['platform','na_sales']].reset_index()"
   ]
  },
  {
   "cell_type": "code",
   "execution_count": null,
   "metadata": {},
   "outputs": [],
   "source": [
    "# Cum sum of sales in north america\n",
    "df_top_na_sum =df_top_na.cumsum()\n",
    "df_top_na_sum = df_top_na_sum[4:]\n",
    "df_top_na_sum = df_top_na_sum['na_sales'].to_list()"
   ]
  },
  {
   "cell_type": "code",
   "execution_count": null,
   "metadata": {},
   "outputs": [],
   "source": [
    "# market share percentage\n",
    "df_top_na['market_share']= (df_top_na['na_sales'] / df_top_na_sum) *100"
   ]
  },
  {
   "cell_type": "code",
   "execution_count": null,
   "metadata": {},
   "outputs": [],
   "source": [
    "# north america platform market share\n",
    "px.pie(df_top_na, values='market_share', names='platform', title='North American Region Platform Market Shares').show()"
   ]
  },
  {
   "cell_type": "markdown",
   "metadata": {},
   "source": [
    "### Other Region Platform Market Shares"
   ]
  },
  {
   "cell_type": "code",
   "execution_count": null,
   "metadata": {},
   "outputs": [],
   "source": [
    "# other region top platform sales\n",
    "df_top_other = df9.sort_values(by='other_sales', ascending=False).head()\n",
    "df_top_other = df_top_other[['platform','other_sales']].reset_index()\n"
   ]
  },
  {
   "cell_type": "code",
   "execution_count": null,
   "metadata": {},
   "outputs": [],
   "source": [
    "# Cum sum of sales in north america\n",
    "df_top_other_sum =df_top_other.cumsum()\n",
    "df_top_other_sum = df_top_other_sum[4:]\n",
    "df_top_other_sum = df_top_other_sum['other_sales'].to_list()"
   ]
  },
  {
   "cell_type": "code",
   "execution_count": null,
   "metadata": {},
   "outputs": [],
   "source": [
    "# market share percentage\n",
    "df_top_other['market_share']= (df_top_other['other_sales'] / df_top_other_sum) *100"
   ]
  },
  {
   "cell_type": "code",
   "execution_count": null,
   "metadata": {},
   "outputs": [],
   "source": [
    "# other region market share\n",
    "px.pie(df_top_other, values='market_share', names='platform', title='Other Region Platform Market Shares').show()"
   ]
  },
  {
   "cell_type": "markdown",
   "metadata": {},
   "source": [
    "### Conclusions"
   ]
  },
  {
   "attachments": {},
   "cell_type": "markdown",
   "metadata": {},
   "source": [
    "The platforms with the top market shares generally differ region to region. The PS4 has the largest market share in Europe, followed by the PS3, XONE, X360, and then the 3DS. Japan market share is dominated by the 3DS. The 3DS is followed by the PS3, PSV, PS4, and then the WIIU. The North American market leads with the PS4, and then close after is the XONE. after those two, market share is split among the X360, PS3, and 3DS in that order. Looking at the other region, PS4 game sales take a lion share of the market at 44.8%. Following that platform is the PS3, XONE, X360, and then the 3DS. Overall, the PS4 seems to predominate most markets out of the Japanese region, where it takes only 11.7% of the market. The PS3 and XONE are also fairly strong in their market shares, but only out of the Japanese region. Japan has different tastes when it comes to platforms. This region prefers the 3DS, and is also somewhat fond of the WIIU, which is a platform not seen in the top five of any other regions. "
   ]
  },
  {
   "cell_type": "markdown",
   "metadata": {},
   "source": [
    "## Top Genres Per Region"
   ]
  },
  {
   "cell_type": "code",
   "execution_count": null,
   "metadata": {},
   "outputs": [],
   "source": [
    "# Categorizing datafarame by genre and sum of sales\n",
    "df10 = df8.groupby('genre')[['total_sales','eu_sales', 'jp_sales', 'na_sales', 'other_sales']].sum().reset_index()"
   ]
  },
  {
   "cell_type": "code",
   "execution_count": null,
   "metadata": {},
   "outputs": [],
   "source": [
    "# market share, genre\n",
    "px.pie(df10, values='total_sales', names='genre', title='Global Market Share by Genre').show()"
   ]
  },
  {
   "cell_type": "markdown",
   "metadata": {},
   "source": [
    "### European Region Top 5 Genres Market Share"
   ]
  },
  {
   "cell_type": "code",
   "execution_count": null,
   "metadata": {},
   "outputs": [],
   "source": [
    "# Top 5 european region genres\n",
    "df_genre_eu = df10.sort_values(by='eu_sales', ascending=False).head()\n",
    "df_genre_eu = df_genre_eu[['genre','eu_sales']].reset_index()"
   ]
  },
  {
   "cell_type": "code",
   "execution_count": null,
   "metadata": {},
   "outputs": [],
   "source": [
    "# Cum sum of sales in europe\n",
    "df_genre_eu_sum =df_genre_eu.cumsum()\n",
    "df_genre_eu_sum = df_genre_eu_sum[4:]\n",
    "df_genre_eu_sum = df_genre_eu_sum['eu_sales'].to_list()"
   ]
  },
  {
   "cell_type": "code",
   "execution_count": null,
   "metadata": {},
   "outputs": [],
   "source": [
    "# Creating market share column\n",
    "df_genre_eu['market_share']= (df_genre_eu['eu_sales'] / df_genre_eu_sum) *100\n"
   ]
  },
  {
   "cell_type": "code",
   "execution_count": null,
   "metadata": {},
   "outputs": [],
   "source": [
    "# European genre market share\n",
    "px.pie(df_genre_eu, values='market_share', names='genre', title='European Region Genre Market Shares').show()"
   ]
  },
  {
   "cell_type": "markdown",
   "metadata": {},
   "source": [
    "### Japanese Region Top 5 Genres Market Share"
   ]
  },
  {
   "cell_type": "code",
   "execution_count": null,
   "metadata": {},
   "outputs": [],
   "source": [
    "# Top 5 japanese region genres\n",
    "df_genre_jp = df10.sort_values(by='jp_sales', ascending=False).head()\n",
    "df_genre_jp = df_genre_jp[['genre','jp_sales']].reset_index()"
   ]
  },
  {
   "cell_type": "code",
   "execution_count": null,
   "metadata": {},
   "outputs": [],
   "source": [
    "# Cum sum of sales in japan\n",
    "df_genre_jp_sum =df_genre_jp.cumsum()\n",
    "df_genre_jp_sum = df_genre_jp_sum[4:]\n",
    "df_genre_jp_sum = df_genre_jp_sum['jp_sales'].to_list()"
   ]
  },
  {
   "cell_type": "code",
   "execution_count": null,
   "metadata": {},
   "outputs": [],
   "source": [
    "# Creating market share column\n",
    "df_genre_jp['market_share']= (df_genre_jp['jp_sales'] / df_genre_jp_sum) *100"
   ]
  },
  {
   "cell_type": "code",
   "execution_count": null,
   "metadata": {},
   "outputs": [],
   "source": [
    "# Japan genre market share\n",
    "px.pie(df_genre_jp, values='market_share', names='genre', title='Japanese Region Genre Market Shares')"
   ]
  },
  {
   "cell_type": "markdown",
   "metadata": {},
   "source": [
    "### North American Region Top 5 Genres Market Share"
   ]
  },
  {
   "cell_type": "code",
   "execution_count": null,
   "metadata": {},
   "outputs": [],
   "source": [
    "# Top 5 north american region genres\n",
    "df_genre_na = df10.sort_values(by='na_sales', ascending=False).head()\n",
    "df_genre_na = df_genre_na[['genre','na_sales']].reset_index()"
   ]
  },
  {
   "cell_type": "code",
   "execution_count": null,
   "metadata": {},
   "outputs": [],
   "source": [
    "# Cum sum of sales in japan\n",
    "df_genre_na_sum =df_genre_na.cumsum()\n",
    "df_genre_na_sum = df_genre_na_sum[4:]\n",
    "df_genre_na_sum = df_genre_na_sum['na_sales'].to_list()"
   ]
  },
  {
   "cell_type": "code",
   "execution_count": null,
   "metadata": {},
   "outputs": [],
   "source": [
    "# Creating market share column\n",
    "df_genre_na['market_share']= (df_genre_na['na_sales'] / df_genre_na_sum) *100"
   ]
  },
  {
   "cell_type": "code",
   "execution_count": null,
   "metadata": {},
   "outputs": [],
   "source": [
    "# North America genre market share\n",
    "px.pie(df_genre_na, values='market_share', names='genre', title='North American Region Genre Market Shares').show()"
   ]
  },
  {
   "cell_type": "markdown",
   "metadata": {},
   "source": [
    "### Other Region Top 5 Genres Market Share"
   ]
  },
  {
   "cell_type": "code",
   "execution_count": null,
   "metadata": {},
   "outputs": [],
   "source": [
    "# Top 5 other region genres\n",
    "df_genre_other = df10.sort_values(by='other_sales', ascending=False).head()\n",
    "df_genre_other = df_genre_other[['genre','other_sales']].reset_index()"
   ]
  },
  {
   "cell_type": "code",
   "execution_count": null,
   "metadata": {},
   "outputs": [],
   "source": [
    "# Cum sum of sales in japan\n",
    "df_genre_other_sum =df_genre_other.cumsum()\n",
    "df_genre_other_sum = df_genre_other_sum[4:]\n",
    "df_genre_other_sum = df_genre_other_sum['other_sales'].to_list()"
   ]
  },
  {
   "cell_type": "code",
   "execution_count": null,
   "metadata": {},
   "outputs": [],
   "source": [
    "# Creating market share column\n",
    "df_genre_other['market_share']= (df_genre_other['other_sales'] / df_genre_other_sum) *100"
   ]
  },
  {
   "cell_type": "code",
   "execution_count": null,
   "metadata": {},
   "outputs": [],
   "source": [
    "# Other genre market share\n",
    "px.pie(df_genre_other, values='market_share', names='genre', title='Other Region Genre Market Shares').show()"
   ]
  },
  {
   "cell_type": "markdown",
   "metadata": {},
   "source": [
    "### Conclusions"
   ]
  },
  {
   "attachments": {},
   "cell_type": "markdown",
   "metadata": {},
   "source": [
    "The European region prefers action games, followed by shooters and sports. Role playing and racing take a small portion of the market share. In the Japanese region, role playing and then action games take a majority of the market share. Miscellaneous, fighting, and shooter genres take a smaller portion of the Japanese market. In North America, action games predominate, followed by shooter. Then we have sports, role playing, and finally miscellaneous. In other region, we see action is first, shooter is second, and sports is third. The last two are role playing and miscellaneous. Overall, the main trend is action, shooter, sports, role playing, in all regions beside Japan. In Japan, they prefer role playing and action games. "
   ]
  },
  {
   "cell_type": "markdown",
   "metadata": {},
   "source": [
    "## ESRB Ratings Affect Regional Sales"
   ]
  },
  {
   "cell_type": "code",
   "execution_count": null,
   "metadata": {},
   "outputs": [],
   "source": [
    "# creating pivot based on ratings, then collect sales\n",
    "df_esrb = df5.pivot_table(index=['name', 'rating'], \n",
    "values=['eu_sales','jp_sales', 'na_sales', 'other_sales','total_sales'], \n",
    "aggfunc='sum').reset_index()"
   ]
  },
  {
   "cell_type": "code",
   "execution_count": null,
   "metadata": {},
   "outputs": [],
   "source": [
    "# grouping by rating, taking sum of sales data\n",
    "df_esrb_sales = df_esrb.groupby('rating')[['eu_sales','jp_sales', 'na_sales', 'other_sales']].sum().reset_index()"
   ]
  },
  {
   "cell_type": "code",
   "execution_count": null,
   "metadata": {},
   "outputs": [],
   "source": [
    "# sales based on rating\n",
    "px.bar(df_esrb_sales, x='rating', y=['eu_sales','jp_sales', 'na_sales', 'other_sales'], \n",
    "    barmode='group', title='Regional Sales Based on ESRB Rating').show()"
   ]
  },
  {
   "cell_type": "markdown",
   "metadata": {},
   "source": [
    "### Conclusions"
   ]
  },
  {
   "attachments": {},
   "cell_type": "markdown",
   "metadata": {},
   "source": [
    "In the North American region, customers prefer games rated M, and then rated E. The same holds true for the European and other region. In the Japanese region, customers prefer T, then E, followed by M. It appears that these trends share a relationship with the genre preferences of the respective regions. It would stand to reason that shooter and action games are rated M, while sports games are rated E. Role playing games must therefore be rated as T or E. "
   ]
  },
  {
   "cell_type": "markdown",
   "metadata": {},
   "source": [
    "## Hypothesis Testing"
   ]
  },
  {
   "cell_type": "markdown",
   "metadata": {},
   "source": [
    "### Average user rating of XONE and PC are the same"
   ]
  },
  {
   "cell_type": "markdown",
   "metadata": {},
   "source": [
    "    Null Hypothesis : The mean user rating of XONE and PC are the same"
   ]
  },
  {
   "cell_type": "code",
   "execution_count": null,
   "metadata": {},
   "outputs": [],
   "source": [
    "# list of platfroms to filter \n",
    "xone_list = ['XONE']\n",
    "pc_list = ['PC']"
   ]
  },
  {
   "cell_type": "code",
   "execution_count": null,
   "metadata": {},
   "outputs": [],
   "source": [
    "# Filtered dataframe\n",
    "df_xone_pc = df[df['platform'].isin(xone_list) | df['platform'].isin(pc_list)].dropna()"
   ]
  },
  {
   "attachments": {},
   "cell_type": "markdown",
   "metadata": {},
   "source": [
    "Have to drop missing values for hypothesis testing to work"
   ]
  },
  {
   "cell_type": "code",
   "execution_count": null,
   "metadata": {},
   "outputs": [],
   "source": [
    "# Filter again by XONE\n",
    "xone_user_list = df_xone_pc[df_xone_pc['platform'].isin(xone_list)]"
   ]
  },
  {
   "cell_type": "code",
   "execution_count": null,
   "metadata": {},
   "outputs": [],
   "source": [
    "# List of user scores\n",
    "xone_user_list = xone_user_list['user_score'].to_list()"
   ]
  },
  {
   "cell_type": "code",
   "execution_count": null,
   "metadata": {},
   "outputs": [],
   "source": [
    "# Filter again by PC\n",
    "pc_user_list = df_xone_pc[df_xone_pc['platform'].isin(pc_list)]"
   ]
  },
  {
   "cell_type": "code",
   "execution_count": null,
   "metadata": {},
   "outputs": [],
   "source": [
    "# Convert values to list\n",
    "pc_user_list = pc_user_list['user_score'].to_list()"
   ]
  },
  {
   "cell_type": "code",
   "execution_count": null,
   "metadata": {},
   "outputs": [],
   "source": [
    "# Comparison of XONE and PC user ratings\n",
    "\n",
    "#Null Hypothesis\n",
    "\n",
    "## The mean user ratings of XONE and PC are the same\n",
    "\n",
    "\n",
    "alpha = 0.05\n",
    "\n",
    "results = st.ttest_ind(xone_user_list, pc_user_list)\n",
    "\n",
    "print('p-value: ', results.pvalue)\n",
    "\n",
    "if results.pvalue < alpha:\n",
    "    print(\"We reject the null hypothesis, the means are different\")\n",
    "else:\n",
    "    print(\"We can't reject the null hypothesis\") "
   ]
  },
  {
   "cell_type": "markdown",
   "metadata": {},
   "source": [
    "##### The average user ratings of XONE and PC platforms are different."
   ]
  },
  {
   "cell_type": "markdown",
   "metadata": {},
   "source": [
    "### Average user rating of action and sports are the same"
   ]
  },
  {
   "cell_type": "markdown",
   "metadata": {},
   "source": [
    "    Null Hypothesis : The mean user rating of action and sports are the same"
   ]
  },
  {
   "cell_type": "code",
   "execution_count": null,
   "metadata": {},
   "outputs": [],
   "source": [
    "# Creating action and sports filter\n",
    "action = ['Action']\n",
    "sports = ['Sports']"
   ]
  },
  {
   "cell_type": "code",
   "execution_count": null,
   "metadata": {},
   "outputs": [],
   "source": [
    "# Filtered dataframe\n",
    "df_action_sports = df[df['genre'].isin(action) | df['genre'].isin(sports)].dropna()"
   ]
  },
  {
   "cell_type": "code",
   "execution_count": null,
   "metadata": {},
   "outputs": [],
   "source": [
    "# Filter again by action\n",
    "action_user_list = df_action_sports[df_action_sports['genre'].isin(action)]"
   ]
  },
  {
   "cell_type": "code",
   "execution_count": null,
   "metadata": {},
   "outputs": [],
   "source": [
    "# List of user scores\n",
    "action_user_list = action_user_list['user_score'].to_list()"
   ]
  },
  {
   "cell_type": "code",
   "execution_count": null,
   "metadata": {},
   "outputs": [],
   "source": [
    "# Filter again by action\n",
    "sports_user_list = df_action_sports[df_action_sports['genre'].isin(sports)]"
   ]
  },
  {
   "cell_type": "code",
   "execution_count": null,
   "metadata": {},
   "outputs": [],
   "source": [
    "# List of user scores\n",
    "sports_user_list = sports_user_list['user_score'].to_list()"
   ]
  },
  {
   "cell_type": "code",
   "execution_count": null,
   "metadata": {},
   "outputs": [],
   "source": [
    "# Comparison of Action and Sports user ratings\n",
    "\n",
    "#Null Hypothesis\n",
    "\n",
    "## The mean user ratings of Action and Sports are the same\n",
    "\n",
    "\n",
    "alpha = 0.05\n",
    "\n",
    "results = st.ttest_ind(action_user_list, sports_user_list)\n",
    "\n",
    "print('p-value: ', results.pvalue)\n",
    "\n",
    "if results.pvalue < alpha:\n",
    "    print(\"We reject the null hypothesis, the means are different\")\n",
    "else:\n",
    "    print(\"We can't reject the null hypothesis\") "
   ]
  },
  {
   "attachments": {},
   "cell_type": "markdown",
   "metadata": {},
   "source": [
    "The mean action and sports user ratings are not statistically different. "
   ]
  },
  {
   "cell_type": "markdown",
   "metadata": {},
   "source": [
    "## Overall Conclusions"
   ]
  },
  {
   "attachments": {},
   "cell_type": "markdown",
   "metadata": {},
   "source": [
    "Overall, we can look at our data to make predictions for 2017. First, inferences would need to be made as to the region we are most interested in marketing to. Since the North American region generally leads in sales, and since the European region follows a similar trend, we can maximize our results by focusing on North America. Since the most popular platform is the PS4, we will be looking for a game on that platform. Since the most popular genre in North America is action, we will be looking for the next big action game. Furthermore, we would want a game that could be played on XONE or PC as well, to maximize sales. Since ratings and user scores do not influence sales, we will not care too much about those factors. Yet, a game in the action genre will likely be M for mature. It is highly likely that the next iteration of Call of Duty or GTA will be widely successful. Alternatively, if we want to market to the Japanese region, we will look for a role playing game on the 3DS. However, profits are likely to be higher working with the previous strategy. "
   ]
  }
 ],
 "metadata": {
  "kernelspec": {
   "display_name": "Python 3 (ipykernel)",
   "language": "python",
   "name": "python3"
  },
  "language_info": {
   "codemirror_mode": {
    "name": "ipython",
    "version": 3
   },
   "file_extension": ".py",
   "mimetype": "text/x-python",
   "name": "python",
   "nbconvert_exporter": "python",
   "pygments_lexer": "ipython3",
   "version": "3.9.12"
  },
  "toc": {
   "base_numbering": 1,
   "nav_menu": {},
   "number_sections": true,
   "sideBar": true,
   "skip_h1_title": true,
   "title_cell": "Table of Contents",
   "title_sidebar": "Contents",
   "toc_cell": false,
   "toc_position": {},
   "toc_section_display": true,
   "toc_window_display": false
  },
  "vscode": {
   "interpreter": {
    "hash": "4f2b0cfe12c109b58467a02dc33230d9e6228c23b43020d2941c37e2a7dfdd3f"
   }
  }
 },
 "nbformat": 4,
 "nbformat_minor": 2
}
